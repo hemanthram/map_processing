{
 "cells": [
  {
   "cell_type": "code",
   "execution_count": 1,
   "metadata": {},
   "outputs": [],
   "source": [
    "import xml.etree.ElementTree as ET\n",
    "from pylab import *\n",
    "import networkx as nx\n",
    "import matplotlib.pyplot as plt"
   ]
  },
  {
   "cell_type": "markdown",
   "metadata": {},
   "source": [
    "# Parsing the osm file using iterparse"
   ]
  },
  {
   "cell_type": "code",
   "execution_count": 2,
   "metadata": {},
   "outputs": [
    {
     "name": "stdout",
     "output_type": "stream",
     "text": [
      "1840778\n",
      "Wall time: 33.1 s\n"
     ]
    },
    {
     "data": {
      "text/plain": [
       "('431610691', '431610692', 181.5585927774593)"
      ]
     },
     "execution_count": 2,
     "metadata": {},
     "output_type": "execute_result"
    }
   ],
   "source": [
    "%%time\n",
    "node = {} # {'node_ID1' : [x1,y1], 'node_ID2' : [x2,y2],.... }\n",
    "way = {} # {'way_ID1' : [nodes 1], 'way_ID2' : [nodes 2],.... }\n",
    "G = [] # a list of edges - [(node1,node2,dist12),(node3,node4,dist34), ...]\n",
    "R = 6378000 # Radius of earth\n",
    "\n",
    "for event, elem in ET.iterparse('map_bangalore'):\n",
    "    if elem.tag == \"node\":\n",
    "        ID = elem.get('id')\n",
    "        lat = float(elem.get('lat'))*pi/180\n",
    "        lon = float(elem.get('lon'))*pi/180\n",
    "        x = R*cos(lat)*cos(lon)\n",
    "        y = R*cos(lat)*sin(lon)\n",
    "        node[ID] = [x,y]\n",
    "        elem.clear()\n",
    "    if elem.tag == \"way\":\n",
    "        path = []\n",
    "        ID = elem.get('id')\n",
    "        for nd in elem:\n",
    "            if nd.tag == \"nd\":\n",
    "                path.append(nd.get('ref'))\n",
    "        way[ID] = path\n",
    "        for i in range(len(path)-1):\n",
    "            [x1,y1] = node[path[i]]\n",
    "            [x2,y2] = node[path[i+1]]\n",
    "            dst = sqrt((x2-x1)**2 + (y2-y1)**2)\n",
    "            G.append((path[i],path[i+1],dst)) # a list of tuples\n",
    "        elem.clear()\n",
    "        \n",
    "print(len(G)) \n",
    "G[1]\n"
   ]
  },
  {
   "cell_type": "code",
   "execution_count": 3,
   "metadata": {},
   "outputs": [
    {
     "name": "stdout",
     "output_type": "stream",
     "text": [
      "No of nodes -  1825940\n",
      "No of edges -  1840778\n"
     ]
    }
   ],
   "source": [
    "print(\"No of nodes - \" , len(node))\n",
    "print(\"No of edges - \" , len(G))"
   ]
  },
  {
   "cell_type": "code",
   "execution_count": 4,
   "metadata": {},
   "outputs": [],
   "source": [
    "M = nx.Graph()\n",
    "M.add_weighted_edges_from(G)"
   ]
  },
  {
   "cell_type": "markdown",
   "metadata": {},
   "source": [
    "# Scatter plot"
   ]
  },
  {
   "cell_type": "code",
   "execution_count": 4,
   "metadata": {},
   "outputs": [],
   "source": [
    "X = []\n",
    "Y= []\n",
    "for i in node:\n",
    "    X.append(node[i][0])\n",
    "    Y.append(node[i][1])"
   ]
  },
  {
   "cell_type": "code",
   "execution_count": 9,
   "metadata": {},
   "outputs": [
    {
     "data": {
      "text/plain": [
       "<matplotlib.collections.PathCollection at 0x2566533b6d8>"
      ]
     },
     "execution_count": 9,
     "metadata": {},
     "output_type": "execute_result"
    },
    {
     "data": {
      "image/png": "[encoded data removed]",
      "text/plain": [
       "<Figure size 432x288 with 1 Axes>"
      ]
     },
     "metadata": {
      "needs_background": "light"
     },
     "output_type": "display_data"
    }
   ],
   "source": [
    "plt.scatter(X,Y)"
   ]
  },
  {
   "cell_type": "code",
   "execution_count": 11,
   "metadata": {},
   "outputs": [],
   "source": [
    "with open(\"X.txt\",\"w\") as f:\n",
    "    for i in X:\n",
    "        f.write('%s\\n' % str(i))\n",
    "with open(\"Y.txt\",\"w\") as f:\n",
    "    for i in Y:\n",
    "        f.write('%s\\n' % str(i))\n",
    "    "
   ]
  },
  {
   "cell_type": "code",
   "execution_count": 12,
   "metadata": {},
   "outputs": [
    {
     "data": {
      "text/plain": [
       "(1825940, 1825940)"
      ]
     },
     "execution_count": 12,
     "metadata": {},
     "output_type": "execute_result"
    }
   ],
   "source": [
    "len(X),len(Y)"
   ]
  },
  {
   "cell_type": "markdown",
   "metadata": {},
   "source": [
    "# If we want G as a dictionary (not needed though)"
   ]
  },
  {
   "cell_type": "code",
   "execution_count": 52,
   "metadata": {
    "scrolled": false
   },
   "outputs": [],
   "source": [
    "node = {} # {'node_ID1' : [x1,y1], 'node_ID2' : [x2,y2],.... }\n",
    "way = {} # {'way_ID1' : [nodes 1], 'way_ID2' : [nodes 2],.... }\n",
    "G = {} # a dictionary with 'nodes' as keys 'edges with distances' as values\n",
    "R = 6378000 # Radius of earth\n",
    "\n",
    "for event, elem in ET.iterparse('map_sample.osm'):\n",
    "    if elem.tag == \"node\":\n",
    "        ID = elem.get('id')\n",
    "        lat = float(elem.get('lat'))*pi/180\n",
    "        lon = float(elem.get('lon'))*pi/180\n",
    "        x = R*cos(lat)*cos(lon)\n",
    "        y = R*cos(lat)*sin(lon)\n",
    "        node[ID] = [x,y]\n",
    "        elem.clear()\n",
    "    if elem.tag == \"way\":\n",
    "        path = []\n",
    "        ID = elem.get('id')\n",
    "        for nd in elem:\n",
    "            if nd.tag == \"nd\":\n",
    "                path.append(nd.get('ref'))\n",
    "        way[ID] = path\n",
    "        for i in range(len(path)-1):\n",
    "            [x1,y1] = node[path[i]]\n",
    "            [x2,y2] = node[path[i+1]]\n",
    "            dst = sqrt((x2-x1)**2 + (y2-y1)**2)\n",
    "            if(path[i] not in G):\n",
    "                G[path[i]] = []\n",
    "            if(path[i+1] not in G):\n",
    "                G[path[i+1]] = []\n",
    "            G[path[i]].append([path[i+1],dst])   \n",
    "            #G[path[k+1]].append([path[k],dst])\n",
    "        elem.clear()\n",
    "        \n",
    "#print(len(G.keys()))  \n",
    "#print(len(way.keys()))\n",
    "#for i in sorted (G) : \n",
    "#    print ((i, G[i]))"
   ]
  },
  {
   "cell_type": "code",
   "execution_count": null,
   "metadata": {},
   "outputs": [],
   "source": []
  }
 ],
 "metadata": {
  "kernelspec": {
   "display_name": "Python 3",
   "language": "python",
   "name": "python3"
  },
  "language_info": {
   "codemirror_mode": {
    "name": "ipython",
    "version": 3
   },
   "file_extension": ".py",
   "mimetype": "text/x-python",
   "name": "python",
   "nbconvert_exporter": "python",
   "pygments_lexer": "ipython3",
   "version": "3.7.3"
  }
 },
 "nbformat": 4,
 "nbformat_minor": 2
}
