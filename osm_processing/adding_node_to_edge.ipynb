{
 "cells": [
  {
   "cell_type": "code",
   "execution_count": 1,
   "metadata": {},
   "outputs": [],
   "source": [
    "%matplotlib qt"
   ]
  },
  {
   "cell_type": "code",
   "execution_count": 2,
   "metadata": {},
   "outputs": [],
   "source": [
    "import networkx as nx\n",
    "import xml.etree.ElementTree as ET\n",
    "from pylab import *\n",
    "import math"
   ]
  },
  {
   "cell_type": "code",
   "execution_count": 3,
   "metadata": {},
   "outputs": [],
   "source": [
    "tree = ET.parse('map.osm')\n",
    "root = tree.getroot()"
   ]
  },
  {
   "cell_type": "markdown",
   "metadata": {},
   "source": [
    "$X = $ contains the x coordinates of all nodes  \n",
    "$Y = $ contains the y coordinates of all nodes  \n",
    "$d = $ dict which maps the node $id$ to the index of their value in X and Y  \n",
    "$paths =$ contains all the $ways$ (paths) mentioned in osm referred to nodes' $id$s  \n",
    "$G $ = graph which contains the nodes connected and distance from each node referred to $id$s"
   ]
  },
  {
   "cell_type": "code",
   "execution_count": 4,
   "metadata": {},
   "outputs": [],
   "source": [
    "def checkroad(way):\n",
    "    for nd in way:\n",
    "        if(nd.tag == 'tag'):\n",
    "            if(nd.attrib['k'] == \"highway\"):\n",
    "                return True\n",
    "                break\n",
    "    return False"
   ]
  },
  {
   "cell_type": "code",
   "execution_count": 5,
   "metadata": {
    "scrolled": true
   },
   "outputs": [
    {
     "name": "stdout",
     "output_type": "stream",
     "text": [
      "Created the graph for the map in G\n"
     ]
    }
   ],
   "source": [
    "R = 6378000\n",
    "X = []\n",
    "Y = []\n",
    "G = {}\n",
    "i = 0\n",
    "d = {}\n",
    "paths = []\n",
    "for child in root:\n",
    "    #if(child.tag == 'node'):\n",
    "    if(child.tag == 'node'):\n",
    "        d[child.attrib['id']] = i\n",
    "        lat = float(child.attrib['lat'])*pi/180\n",
    "        lon = float(child.attrib['lon'])*pi/180\n",
    "        x = R*cos(lat)*cos(lon)\n",
    "        y = R*cos(lat)*sin(lon)\n",
    "        X.append(x)\n",
    "        Y.append(y)\n",
    "        i = i+1\n",
    "    if(child.tag == 'way'):\n",
    "        path = []\n",
    "        l = 0\n",
    "        if(not checkroad(child)):\n",
    "            continue\n",
    "        for nd in child:\n",
    "            if(nd.tag == 'nd'):\n",
    "                path.append(nd.attrib['ref'])\n",
    "                l = l+1\n",
    "        paths.append(path)\n",
    "        if(l <= 1):\n",
    "            continue\n",
    "        for k in range(l-1):\n",
    "            x1 = X[d[path[k]]]\n",
    "            y1 = Y[d[path[k]]]\n",
    "            x2 = X[d[path[k+1]]]\n",
    "            y2 = Y[d[path[k+1]]]\n",
    "            if(path[k] not in G):\n",
    "                G[path[k]] = []\n",
    "            if(path[k+1] not in G):\n",
    "                G[path[k+1]] = []\n",
    "            dst = sqrt((x2-x1)**2 + (y2-y1)**2)\n",
    "            G[path[k]].append([path[k+1],dst])\n",
    "            G[path[k+1]].append([path[k],dst])\n",
    "print('Created the graph for the map in G')"
   ]
  },
  {
   "cell_type": "markdown",
   "metadata": {},
   "source": [
    "### Scatter plot of the given nodes"
   ]
  },
  {
   "cell_type": "code",
   "execution_count": 6,
   "metadata": {},
   "outputs": [],
   "source": [
    "scatter(X,Y,s=0.5)\n",
    "grid()\n",
    "show()"
   ]
  },
  {
   "cell_type": "markdown",
   "metadata": {},
   "source": [
    "### The graph variable G"
   ]
  },
  {
   "cell_type": "code",
   "execution_count": null,
   "metadata": {},
   "outputs": [],
   "source": [
    "G"
   ]
  },
  {
   "cell_type": "markdown",
   "metadata": {},
   "source": [
    "### This block can be find the edge to which a node belongs to given the lat and lon of that node"
   ]
  },
  {
   "cell_type": "code",
   "execution_count": 11,
   "metadata": {},
   "outputs": [
    {
     "name": "stdout",
     "output_type": "stream",
     "text": [
      "12.990738,80.233741\n"
     ]
    }
   ],
   "source": [
    "def findFoot(x,y,x1,y1,x2,y2):\n",
    "    a = y2-y1; b = x1-x2\n",
    "    c = y1*(x2-x1) - x1*(y2-y1)\n",
    "    temp = -(a*x+b*y+c)/(a**2+b**2)\n",
    "    return temp*a+x,temp*b+y\n",
    "lat,lon = list(map(float,input().split(',')))\n",
    "lat = lat*(pi/180); lon = lon*(pi/180); R = 6378000\n",
    "x = R*cos(lat)*cos(lon)\n",
    "y = R*sin(lon)*cos(lat)\n",
    "mn = math.inf\n",
    "for path in paths:\n",
    "    l = len(path)\n",
    "    for k in range(l-1):\n",
    "        x1 = X[d[path[k]]]; y1 = Y[d[path[k]]]\n",
    "        x2 = X[d[path[k+1]]]; y2 = Y[d[path[k+1]]]\n",
    "        fx,fy = findFoot(x,y,x1,y1,x2,y2)\n",
    "        if(fx >= min(x1,x2) and fx <= max(x1,x2)):\n",
    "            dst = (x-fx)**2 + (y-fy)**2\n",
    "            if(dst < mn):\n",
    "                mn = dst; loc = [fx,fy]\n",
    "        dst = (x-x1)**2 + (y-y1)**2\n",
    "        if(dst < mn):\n",
    "            mn = dst; loc = [x1,y1]\n",
    "        dst = (x-x2)**2 + (y-y2)**2\n",
    "        if(dst < mn):\n",
    "            mn = dst; loc = [x2,y2]\n",
    "        \n",
    "        plot([x1,x2],[y1,y2],'-g',linewidth=1)\n",
    "scatter(x,y,s=10)\n",
    "scatter(loc[0],loc[1],s=10)\n",
    "grid()\n",
    "show()"
   ]
  }
 ],
 "metadata": {
  "kernelspec": {
   "display_name": "Python 3",
   "language": "python",
   "name": "python3"
  },
  "language_info": {
   "codemirror_mode": {
    "name": "ipython",
    "version": 3
   },
   "file_extension": ".py",
   "mimetype": "text/x-python",
   "name": "python",
   "nbconvert_exporter": "python",
   "pygments_lexer": "ipython3",
   "version": "3.7.3"
  }
 },
 "nbformat": 4,
 "nbformat_minor": 2
}
