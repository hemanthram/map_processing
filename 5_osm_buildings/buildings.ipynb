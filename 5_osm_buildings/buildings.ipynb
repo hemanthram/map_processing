{
 "cells": [
  {
   "cell_type": "code",
   "execution_count": 81,
   "metadata": {},
   "outputs": [],
   "source": [
    "%matplotlib inline\n",
    "import xml.etree.ElementTree as ET\n",
    "from pylab import *\n",
    "import networkx as nx\n",
    "import pickle\n",
    "import numpy as np\n",
    "import math\n",
    "import folium"
   ]
  },
  {
   "cell_type": "code",
   "execution_count": 82,
   "metadata": {},
   "outputs": [],
   "source": [
    "def store(data, name):\n",
    "    with open('../0_map_data_processed/'+name+'.p','wb') as f:\n",
    "        pickle.dump(data, f, protocol=pickle.HIGHEST_PROTOCOL)"
   ]
  },
  {
   "cell_type": "markdown",
   "metadata": {},
   "source": [
    "# Parsing the osm file using iterparse"
   ]
  },
  {
   "cell_type": "code",
   "execution_count": 83,
   "metadata": {},
   "outputs": [],
   "source": [
    "ZOOM = 17\n",
    "SCALE = (2**ZOOM)*(256)\n",
    "R = 6378137\n",
    "BANG_LAT = 12.9885#,77.6218\n",
    "M_PER_PX = 156543.03392 * math.cos(BANG_LAT * (pi / 180)) / (2**ZOOM)\n",
    "def getxy(lat,lon):\n",
    "    # gets X,Y xoordinates using latitude and longitude\n",
    "    scale = SCALE\n",
    "    siny = math.sin(lat*(pi/180))\n",
    "    siny = min(max(siny, -0.9999999999),0.99999999999)\n",
    "    x = scale*(0.5+(lon/360))\n",
    "    y = scale*(0.5-(math.log((1+siny)/(1-siny))/(4*pi)))\n",
    "    return [x,y]\n",
    "\n",
    "def node_attributes(elem):\n",
    "    # Given a node element, gets its attributes like ID,latitude,longitude\n",
    "    ID = elem.get('id')\n",
    "    lat = float(elem.get('lat'))\n",
    "    lon = float(elem.get('lon'))\n",
    "    return ID,lat,lon\n",
    "\n",
    "def way_attributes(elem):\n",
    "    path = []\n",
    "    ID = elem.get('id')\n",
    "    for nd in elem:\n",
    "        if nd.tag == \"nd\":\n",
    "            path.append(nd.get('ref'))\n",
    "    return ID,path  \n",
    "\n",
    "def checkway(way,check):\n",
    "    for nd in way:\n",
    "        if(nd.tag == 'tag'):\n",
    "            if(nd.attrib['k'] == check):\n",
    "                return True\n",
    "                break\n",
    "    return False\n",
    "        \n",
    "def distance(x1,y1,x2,y2):\n",
    "    return sqrt((x2-x1)**2 + (y2-y1)**2)\n",
    "    \n",
    "    \n",
    "def parser(source):\n",
    "    \n",
    "    useful_nodes = {}\n",
    "    node = {}               # {'node_ID1' : [x1,y1], 'node_ID2' : [x2,y2],.... }\n",
    "    node_data = {}          # same as node but with lat and lon instead of x,y\n",
    "    way = {}                # {'way_ID1' : [nodes 1], 'way_ID2' : [nodes 2],.... }\n",
    "    G = []        # a list of edges - [(node1,node2,dist12),(node3,node4,dist34), ...]\n",
    "    buildings = []\n",
    "        \n",
    "    for event, elem in ET.iterparse(source):\n",
    "        if elem.tag == \"node\":\n",
    "            ID,lat,lon = node_attributes(elem)\n",
    "            node[ID] = getxy(lat,lon)\n",
    "            node_data[ID] = [lat,lon]\n",
    "            elem.clear()\n",
    "        \n",
    "        if elem.tag == \"way\":\n",
    "            if(checkway(elem, \"highway\")):\n",
    "                ID,path = way_attributes(elem)\n",
    "                for i in range(len(path)-1):\n",
    "                    [x1,y1] = node[path[i]]\n",
    "                    [x2,y2] = node[path[i+1]]\n",
    "                    d = distance(x1,y1,x2,y2)\n",
    "                    G.append((path[i],path[i+1],d,len(G))) # a list of tuples\n",
    "                    useful_nodes[path[i]] = True\n",
    "                    useful_nodes[path[i+1]] = True\n",
    "                way[ID] = path\n",
    "                elem.clear()\n",
    "            if(checkway(elem, \"building\")):\n",
    "                ID,path = way_attributes(elem)\n",
    "                path.pop()\n",
    "                buildings.append(path)\n",
    "                elem.clear()\n",
    "        \n",
    "    return node_data,node,useful_nodes,G,buildings"
   ]
  },
  {
   "cell_type": "code",
   "execution_count": 84,
   "metadata": {},
   "outputs": [
    {
     "name": "stdout",
     "output_type": "stream",
     "text": [
      "Done\n"
     ]
    }
   ],
   "source": [
    "node_data,nodes,useful_nodes,G,buildings = parser('../0_map_data_raw/bangalore0')\n",
    "print('Done')"
   ]
  },
  {
   "cell_type": "code",
   "execution_count": 85,
   "metadata": {},
   "outputs": [
    {
     "name": "stdout",
     "output_type": "stream",
     "text": [
      "No of nodes -  3104016\n",
      "No of edges -  505146\n",
      "No of buildings -  587396\n"
     ]
    },
    {
     "data": {
      "text/plain": [
       "[['254438362', '254438363', '254438364', '254438365'],\n",
       " ['263870609', '263870628', '263870646', '263870666'],\n",
       " ['263871052', '263871073', '263871078', '263871083'],\n",
       " ['264111556', '264111557', '264111558', '264111559'],\n",
       " ['264112138', '264112139', '264112140', '264112141']]"
      ]
     },
     "execution_count": 85,
     "metadata": {},
     "output_type": "execute_result"
    }
   ],
   "source": [
    "print(\"No of nodes - \" , len(node_data))\n",
    "print(\"No of edges - \" , len(G))\n",
    "print(\"No of buildings - \", len(buildings))\n",
    "buildings[:5]"
   ]
  },
  {
   "cell_type": "code",
   "execution_count": 86,
   "metadata": {},
   "outputs": [],
   "source": [
    "def poly_area(x,y):\n",
    "    x = np.array(x); y = np.array(y)\n",
    "    x=x.astype(np.float32)\n",
    "    y=y.astype(np.float32)\n",
    "    x = x-np.min(x)\n",
    "    y = y-np.min(y)\n",
    "    correction = x[-1] * y[0] - y[-1]* x[0]\n",
    "    main_area = np.dot(x[:-1], y[1:]) - np.dot(y[:-1], x[1:])\n",
    "    return 0.5*np.abs(main_area + correction)*(M_PER_PX**2)"
   ]
  },
  {
   "cell_type": "code",
   "execution_count": 87,
   "metadata": {},
   "outputs": [],
   "source": [
    "for x,y,d,i in G:\n",
    "    x1,y1 = nodes[x]\n",
    "    x2,y2 = nodes[y]\n",
    "building_detail=[]    \n",
    "for building in buildings:\n",
    "    x_array=[]\n",
    "    y_array=[]\n",
    "    for ID in building:\n",
    "        x1,y1 = nodes[ID]\n",
    "        x_array.append(x1)\n",
    "        y_array.append(y1)\n",
    "    x_mid=sum(x_array)/len(x_array)\n",
    "    y_mid=sum(y_array)/len(y_array)\n",
    "    area =poly_area(x_array,y_array)\n",
    "    building_detail.append([x_mid,y_mid,area])    "
   ]
  },
  {
   "cell_type": "code",
   "execution_count": 88,
   "metadata": {},
   "outputs": [
    {
     "name": "stdout",
     "output_type": "stream",
     "text": [
      "582127 ['5780899411', '5780899412', '5780899413', '5780899414', '5780899415', '5780899416', '5780899417']\n",
      "\n"
     ]
    }
   ],
   "source": [
    "for i in range(len(buildings)):\n",
    "    for ID in buildings[i]:\n",
    "        if(ID == \"5780899411\"):\n",
    "            print(i, buildings[i])\n",
    "            print('')\n",
    "            break"
   ]
  },
  {
   "cell_type": "code",
   "execution_count": 89,
   "metadata": {},
   "outputs": [
    {
     "name": "stdout",
     "output_type": "stream",
     "text": [
      "building boundaries\n",
      "[['254438362', '254438363', '254438364', '254438365'], ['263870609', '263870628', '263870646', '263870666'], ['263871052', '263871073', '263871078', '263871083'], ['264111556', '264111557', '264111558', '264111559'], ['264112138', '264112139', '264112140', '264112141']]\n",
      "building details\n",
      "[[24007848.483735323, 15558275.128534755, 9521.186267613708], [24016124.9407067, 15562255.782184906, 857.3130735987877], [24016190.788949333, 15562251.517115451, 1571.0634524085208], [24016097.819871005, 15562214.683060693, 744.9007748488676], [24016135.205100656, 15562214.056687979, 669.0563323188011]]\n",
      "no of buildings 587396\n"
     ]
    }
   ],
   "source": [
    "print(\"building boundaries\")\n",
    "print(buildings[:5])\n",
    "print(\"building details\")\n",
    "print(building_detail[:5])\n",
    "print('no of buildings',len(building_detail))"
   ]
  },
  {
   "cell_type": "code",
   "execution_count": 90,
   "metadata": {},
   "outputs": [
    {
     "name": "stdout",
     "output_type": "stream",
     "text": [
      "[12.9190143, 77.6649113]\n",
      "area : 1583.2527378151387\n",
      "meters per px: 1.1637719042749568\n"
     ]
    },
    {
     "data": {
      "text/html": [
       "<div style=\"width:100%;\"><div style=\"position:relative;width:100%;height:0;padding-bottom:60%;\"><span style=\"color:#565656\">Make this Notebook Trusted to load map: File -> Trust Notebook</span><iframe src=\"about:blank\" style=\"position:absolute;width:100%;height:100%;left:0;top:0;border:none !important;\" data-html=PCFET0NUWVBFIGh0bWw+CjxoZWFkPiAgICAKICAgIDxtZXRhIGh0dHAtZXF1aXY9ImNvbnRlbnQtdHlwZSIgY29udGVudD0idGV4dC9odG1sOyBjaGFyc2V0PVVURi04IiAvPgogICAgCiAgICAgICAgPHNjcmlwdD4KICAgICAgICAgICAgTF9OT19UT1VDSCA9IGZhbHNlOwogICAgICAgICAgICBMX0RJU0FCTEVfM0QgPSBmYWxzZTsKICAgICAgICA8L3NjcmlwdD4KICAgIAogICAgPHNjcmlwdCBzcmM9Imh0dHBzOi8vY2RuLmpzZGVsaXZyLm5ldC9ucG0vbGVhZmxldEAxLjYuMC9kaXN0L2xlYWZsZXQuanMiPjwvc2NyaXB0PgogICAgPHNjcmlwdCBzcmM9Imh0dHBzOi8vY29kZS5qcXVlcnkuY29tL2pxdWVyeS0xLjEyLjQubWluLmpzIj48L3NjcmlwdD4KICAgIDxzY3JpcHQgc3JjPSJodHRwczovL21heGNkbi5ib290c3RyYXBjZG4uY29tL2Jvb3RzdHJhcC8zLjIuMC9qcy9ib290c3RyYXAubWluLmpzIj48L3NjcmlwdD4KICAgIDxzY3JpcHQgc3JjPSJodHRwczovL2NkbmpzLmNsb3VkZmxhcmUuY29tL2FqYXgvbGlicy9MZWFmbGV0LmF3ZXNvbWUtbWFya2Vycy8yLjAuMi9sZWFmbGV0LmF3ZXNvbWUtbWFya2Vycy5qcyI+PC9zY3JpcHQ+CiAgICA8bGluayByZWw9InN0eWxlc2hlZXQiIGhyZWY9Imh0dHBzOi8vY2RuLmpzZGVsaXZyLm5ldC9ucG0vbGVhZmxldEAxLjYuMC9kaXN0L2xlYWZsZXQuY3NzIi8+CiAgICA8bGluayByZWw9InN0eWxlc2hlZXQiIGhyZWY9Imh0dHBzOi8vbWF4Y2RuLmJvb3RzdHJhcGNkbi5jb20vYm9vdHN0cmFwLzMuMi4wL2Nzcy9ib290c3RyYXAubWluLmNzcyIvPgogICAgPGxpbmsgcmVsPSJzdHlsZXNoZWV0IiBocmVmPSJodHRwczovL21heGNkbi5ib290c3RyYXBjZG4uY29tL2Jvb3RzdHJhcC8zLjIuMC9jc3MvYm9vdHN0cmFwLXRoZW1lLm1pbi5jc3MiLz4KICAgIDxsaW5rIHJlbD0ic3R5bGVzaGVldCIgaHJlZj0iaHR0cHM6Ly9tYXhjZG4uYm9vdHN0cmFwY2RuLmNvbS9mb250LWF3ZXNvbWUvNC42LjMvY3NzL2ZvbnQtYXdlc29tZS5taW4uY3NzIi8+CiAgICA8bGluayByZWw9InN0eWxlc2hlZXQiIGhyZWY9Imh0dHBzOi8vY2RuanMuY2xvdWRmbGFyZS5jb20vYWpheC9saWJzL0xlYWZsZXQuYXdlc29tZS1tYXJrZXJzLzIuMC4yL2xlYWZsZXQuYXdlc29tZS1tYXJrZXJzLmNzcyIvPgogICAgPGxpbmsgcmVsPSJzdHlsZXNoZWV0IiBocmVmPSJodHRwczovL3Jhd2Nkbi5naXRoYWNrLmNvbS9weXRob24tdmlzdWFsaXphdGlvbi9mb2xpdW0vbWFzdGVyL2ZvbGl1bS90ZW1wbGF0ZXMvbGVhZmxldC5hd2Vzb21lLnJvdGF0ZS5jc3MiLz4KICAgIDxzdHlsZT5odG1sLCBib2R5IHt3aWR0aDogMTAwJTtoZWlnaHQ6IDEwMCU7bWFyZ2luOiAwO3BhZGRpbmc6IDA7fTwvc3R5bGU+CiAgICA8c3R5bGU+I21hcCB7cG9zaXRpb246YWJzb2x1dGU7dG9wOjA7Ym90dG9tOjA7cmlnaHQ6MDtsZWZ0OjA7fTwvc3R5bGU+CiAgICAKICAgICAgICAgICAgPG1ldGEgbmFtZT0idmlld3BvcnQiIGNvbnRlbnQ9IndpZHRoPWRldmljZS13aWR0aCwKICAgICAgICAgICAgICAgIGluaXRpYWwtc2NhbGU9MS4wLCBtYXhpbXVtLXNjYWxlPTEuMCwgdXNlci1zY2FsYWJsZT1ubyIgLz4KICAgICAgICAgICAgPHN0eWxlPgogICAgICAgICAgICAgICAgI21hcF83NjA1NjllNWZhZDM0ZTZkODA1NjZlOWEzMzJjZjY2MiB7CiAgICAgICAgICAgICAgICAgICAgcG9zaXRpb246IHJlbGF0aXZlOwogICAgICAgICAgICAgICAgICAgIHdpZHRoOiAxMDAuMCU7CiAgICAgICAgICAgICAgICAgICAgaGVpZ2h0OiAxMDAuMCU7CiAgICAgICAgICAgICAgICAgICAgbGVmdDogMC4wJTsKICAgICAgICAgICAgICAgICAgICB0b3A6IDAuMCU7CiAgICAgICAgICAgICAgICB9CiAgICAgICAgICAgIDwvc3R5bGU+CiAgICAgICAgCjwvaGVhZD4KPGJvZHk+ICAgIAogICAgCiAgICAgICAgICAgIDxkaXYgY2xhc3M9ImZvbGl1bS1tYXAiIGlkPSJtYXBfNzYwNTY5ZTVmYWQzNGU2ZDgwNTY2ZTlhMzMyY2Y2NjIiID48L2Rpdj4KICAgICAgICAKPC9ib2R5Pgo8c2NyaXB0PiAgICAKICAgIAogICAgICAgICAgICB2YXIgbWFwXzc2MDU2OWU1ZmFkMzRlNmQ4MDU2NmU5YTMzMmNmNjYyID0gTC5tYXAoCiAgICAgICAgICAgICAgICAibWFwXzc2MDU2OWU1ZmFkMzRlNmQ4MDU2NmU5YTMzMmNmNjYyIiwKICAgICAgICAgICAgICAgIHsKICAgICAgICAgICAgICAgICAgICBjZW50ZXI6IFsxMi45MTkwMTQzLCA3Ny42NjQ5MTEzXSwKICAgICAgICAgICAgICAgICAgICBjcnM6IEwuQ1JTLkVQU0czODU3LAogICAgICAgICAgICAgICAgICAgIHpvb206IDE5LAogICAgICAgICAgICAgICAgICAgIHpvb21Db250cm9sOiB0cnVlLAogICAgICAgICAgICAgICAgICAgIHByZWZlckNhbnZhczogZmFsc2UsCiAgICAgICAgICAgICAgICB9CiAgICAgICAgICAgICk7CgogICAgICAgICAgICAKCiAgICAgICAgCiAgICAKICAgICAgICAgICAgdmFyIHRpbGVfbGF5ZXJfMGU5YmE3ZjllZDUzNDI3NjhlNTE5N2U0ZTRhNTg2ZDcgPSBMLnRpbGVMYXllcigKICAgICAgICAgICAgICAgICJodHRwczovL3tzfS50aWxlLm9wZW5zdHJlZXRtYXAub3JnL3t6fS97eH0ve3l9LnBuZyIsCiAgICAgICAgICAgICAgICB7ImF0dHJpYnV0aW9uIjogIkRhdGEgYnkgXHUwMDI2Y29weTsgXHUwMDNjYSBocmVmPVwiaHR0cDovL29wZW5zdHJlZXRtYXAub3JnXCJcdTAwM2VPcGVuU3RyZWV0TWFwXHUwMDNjL2FcdTAwM2UsIHVuZGVyIFx1MDAzY2EgaHJlZj1cImh0dHA6Ly93d3cub3BlbnN0cmVldG1hcC5vcmcvY29weXJpZ2h0XCJcdTAwM2VPRGJMXHUwMDNjL2FcdTAwM2UuIiwgImRldGVjdFJldGluYSI6IGZhbHNlLCAibWF4TmF0aXZlWm9vbSI6IDE4LCAibWF4Wm9vbSI6IDE4LCAibWluWm9vbSI6IDAsICJub1dyYXAiOiBmYWxzZSwgIm9wYWNpdHkiOiAxLCAic3ViZG9tYWlucyI6ICJhYmMiLCAidG1zIjogZmFsc2V9CiAgICAgICAgICAgICkuYWRkVG8obWFwXzc2MDU2OWU1ZmFkMzRlNmQ4MDU2NmU5YTMzMmNmNjYyKTsKICAgICAgICAKICAgIAogICAgICAgICAgICB2YXIgbWFya2VyXzA2NzhlYzE3N2JjMTRjMjhhN2RjY2NiMzJmYzcyZGEwID0gTC5tYXJrZXIoCiAgICAgICAgICAgICAgICBbMTIuOTE5MDE0MywgNzcuNjY0OTExM10sCiAgICAgICAgICAgICAgICB7fQogICAgICAgICAgICApLmFkZFRvKG1hcF83NjA1NjllNWZhZDM0ZTZkODA1NjZlOWEzMzJjZjY2Mik7CiAgICAgICAgCiAgICAKICAgICAgICB2YXIgcG9wdXBfM2U5ZjM2YmQ4Yzc3NDRhYTk4NGM0ZmI2ODk3OTMyNmYgPSBMLnBvcHVwKHsibWF4V2lkdGgiOiAiMTAwJSJ9KTsKCiAgICAgICAgCiAgICAgICAgICAgIHZhciBodG1sXzRiZmZlOTM1NTFhYjQ2YWZiYTNiYTA4YzE0NDYyZjdmID0gJChgPGRpdiBpZD0iaHRtbF80YmZmZTkzNTUxYWI0NmFmYmEzYmEwOGMxNDQ2MmY3ZiIgc3R5bGU9IndpZHRoOiAxMDAuMCU7IGhlaWdodDogMTAwLjAlOyI+aGVyZTwvZGl2PmApWzBdOwogICAgICAgICAgICBwb3B1cF8zZTlmMzZiZDhjNzc0NGFhOTg0YzRmYjY4OTc5MzI2Zi5zZXRDb250ZW50KGh0bWxfNGJmZmU5MzU1MWFiNDZhZmJhM2JhMDhjMTQ0NjJmN2YpOwogICAgICAgIAoKICAgICAgICBtYXJrZXJfMDY3OGVjMTc3YmMxNGMyOGE3ZGNjY2IzMmZjNzJkYTAuYmluZFBvcHVwKHBvcHVwXzNlOWYzNmJkOGM3NzQ0YWE5ODRjNGZiNjg5NzkzMjZmKQogICAgICAgIDsKCiAgICAgICAgCiAgICAKICAgIAogICAgICAgICAgICB2YXIgbWFya2VyXzUzYjYzY2Q1ZThlYzQ5MTZiZjhiZjljMDJhOTBmN2RjID0gTC5tYXJrZXIoCiAgICAgICAgICAgICAgICBbMTIuOTE5MDA2NSwgNzcuNjY1MDI0XSwKICAgICAgICAgICAgICAgIHt9CiAgICAgICAgICAgICkuYWRkVG8obWFwXzc2MDU2OWU1ZmFkMzRlNmQ4MDU2NmU5YTMzMmNmNjYyKTsKICAgICAgICAKICAgIAogICAgICAgIHZhciBwb3B1cF8xOTdhNDI5OTBhMmY0ZGZmODY0MjJmMTBiZDVhNzcxOSA9IEwucG9wdXAoeyJtYXhXaWR0aCI6ICIxMDAlIn0pOwoKICAgICAgICAKICAgICAgICAgICAgdmFyIGh0bWxfN2VmOGI4Y2Y1ZmIwNGNhYmFkMzE5MGRmNTZhODhkNTEgPSAkKGA8ZGl2IGlkPSJodG1sXzdlZjhiOGNmNWZiMDRjYWJhZDMxOTBkZjU2YTg4ZDUxIiBzdHlsZT0id2lkdGg6IDEwMC4wJTsgaGVpZ2h0OiAxMDAuMCU7Ij5oZXJlPC9kaXY+YClbMF07CiAgICAgICAgICAgIHBvcHVwXzE5N2E0Mjk5MGEyZjRkZmY4NjQyMmYxMGJkNWE3NzE5LnNldENvbnRlbnQoaHRtbF83ZWY4YjhjZjVmYjA0Y2FiYWQzMTkwZGY1NmE4OGQ1MSk7CiAgICAgICAgCgogICAgICAgIG1hcmtlcl81M2I2M2NkNWU4ZWM0OTE2YmY4YmY5YzAyYTkwZjdkYy5iaW5kUG9wdXAocG9wdXBfMTk3YTQyOTkwYTJmNGRmZjg2NDIyZjEwYmQ1YTc3MTkpCiAgICAgICAgOwoKICAgICAgICAKICAgIAogICAgCiAgICAgICAgICAgIHZhciBtYXJrZXJfNzU2OGIyN2EyOGVjNGI5Mjk2OGE3MTczZjU0NWQ0NTQgPSBMLm1hcmtlcigKICAgICAgICAgICAgICAgIFsxMi45MTg5NjIsIDc3LjY2NTAwNzldLAogICAgICAgICAgICAgICAge30KICAgICAgICAgICAgKS5hZGRUbyhtYXBfNzYwNTY5ZTVmYWQzNGU2ZDgwNTY2ZTlhMzMyY2Y2NjIpOwogICAgICAgIAogICAgCiAgICAgICAgdmFyIHBvcHVwX2Q1MjRlYTNiYzBlNzQwMjdhYzgyNWY0NTMwNzIzY2QyID0gTC5wb3B1cCh7Im1heFdpZHRoIjogIjEwMCUifSk7CgogICAgICAgIAogICAgICAgICAgICB2YXIgaHRtbF9kNjJkMjY2YTg4OGU0Njc3OGY4ODRhOGIzNjgyNWRiZiA9ICQoYDxkaXYgaWQ9Imh0bWxfZDYyZDI2NmE4ODhlNDY3NzhmODg0YThiMzY4MjVkYmYiIHN0eWxlPSJ3aWR0aDogMTAwLjAlOyBoZWlnaHQ6IDEwMC4wJTsiPmhlcmU8L2Rpdj5gKVswXTsKICAgICAgICAgICAgcG9wdXBfZDUyNGVhM2JjMGU3NDAyN2FjODI1ZjQ1MzA3MjNjZDIuc2V0Q29udGVudChodG1sX2Q2MmQyNjZhODg4ZTQ2Nzc4Zjg4NGE4YjM2ODI1ZGJmKTsKICAgICAgICAKCiAgICAgICAgbWFya2VyXzc1NjhiMjdhMjhlYzRiOTI5NjhhNzE3M2Y1NDVkNDU0LmJpbmRQb3B1cChwb3B1cF9kNTI0ZWEzYmMwZTc0MDI3YWM4MjVmNDUzMDcyM2NkMikKICAgICAgICA7CgogICAgICAgIAogICAgCiAgICAKICAgICAgICAgICAgdmFyIG1hcmtlcl8wOTczMWRhNDk5YjU0N2I5ODI4N2E5MzcwOGZlZWFiMiA9IEwubWFya2VyKAogICAgICAgICAgICAgICAgWzEyLjkxODk2NDYsIDc3LjY2NTA2MTVdLAogICAgICAgICAgICAgICAge30KICAgICAgICAgICAgKS5hZGRUbyhtYXBfNzYwNTY5ZTVmYWQzNGU2ZDgwNTY2ZTlhMzMyY2Y2NjIpOwogICAgICAgIAogICAgCiAgICAgICAgdmFyIHBvcHVwXzc2NmQ5YjBkMjMyODQ1ZWY4MWI1Y2NjODA0YTU5OWI4ID0gTC5wb3B1cCh7Im1heFdpZHRoIjogIjEwMCUifSk7CgogICAgICAgIAogICAgICAgICAgICB2YXIgaHRtbF81OTAzN2ZjMjAyMDI0ZGZlYjM5NzE1MTJkMDRiMTJkNSA9ICQoYDxkaXYgaWQ9Imh0bWxfNTkwMzdmYzIwMjAyNGRmZWIzOTcxNTEyZDA0YjEyZDUiIHN0eWxlPSJ3aWR0aDogMTAwLjAlOyBoZWlnaHQ6IDEwMC4wJTsiPmhlcmU8L2Rpdj5gKVswXTsKICAgICAgICAgICAgcG9wdXBfNzY2ZDliMGQyMzI4NDVlZjgxYjVjY2M4MDRhNTk5Yjguc2V0Q29udGVudChodG1sXzU5MDM3ZmMyMDIwMjRkZmViMzk3MTUxMmQwNGIxMmQ1KTsKICAgICAgICAKCiAgICAgICAgbWFya2VyXzA5NzMxZGE0OTliNTQ3Yjk4Mjg3YTkzNzA4ZmVlYWIyLmJpbmRQb3B1cChwb3B1cF83NjZkOWIwZDIzMjg0NWVmODFiNWNjYzgwNGE1OTliOCkKICAgICAgICA7CgogICAgICAgIAogICAgCiAgICAKICAgICAgICAgICAgdmFyIG1hcmtlcl84NDRjOGJjYmVlZTU0YTllODI3MzkyNzcwOGRhMGQ3NyA9IEwubWFya2VyKAogICAgICAgICAgICAgICAgWzEyLjkxODk1NjgsIDc3LjY2NTE2MDhdLAogICAgICAgICAgICAgICAge30KICAgICAgICAgICAgKS5hZGRUbyhtYXBfNzYwNTY5ZTVmYWQzNGU2ZDgwNTY2ZTlhMzMyY2Y2NjIpOwogICAgICAgIAogICAgCiAgICAgICAgdmFyIHBvcHVwXzUyMzU3ZDE3M2VjODRmMGFiMjQyODQ2NTYxODEyNTBiID0gTC5wb3B1cCh7Im1heFdpZHRoIjogIjEwMCUifSk7CgogICAgICAgIAogICAgICAgICAgICB2YXIgaHRtbF82M2U1ZGQ2OWRmOWI0ZjE3OGI4NTdhNGJlMTA1YzkxMCA9ICQoYDxkaXYgaWQ9Imh0bWxfNjNlNWRkNjlkZjliNGYxNzhiODU3YTRiZTEwNWM5MTAiIHN0eWxlPSJ3aWR0aDogMTAwLjAlOyBoZWlnaHQ6IDEwMC4wJTsiPmhlcmU8L2Rpdj5gKVswXTsKICAgICAgICAgICAgcG9wdXBfNTIzNTdkMTczZWM4NGYwYWIyNDI4NDY1NjE4MTI1MGIuc2V0Q29udGVudChodG1sXzYzZTVkZDY5ZGY5YjRmMTc4Yjg1N2E0YmUxMDVjOTEwKTsKICAgICAgICAKCiAgICAgICAgbWFya2VyXzg0NGM4YmNiZWVlNTRhOWU4MjczOTI3NzA4ZGEwZDc3LmJpbmRQb3B1cChwb3B1cF81MjM1N2QxNzNlYzg0ZjBhYjI0Mjg0NjU2MTgxMjUwYikKICAgICAgICA7CgogICAgICAgIAogICAgCiAgICAKICAgICAgICAgICAgdmFyIG1hcmtlcl84YjVmYTYyZjkxZWY0M2E4YjUyMTVmYjlhMGFlZjVjOCA9IEwubWFya2VyKAogICAgICAgICAgICAgICAgWzEyLjkxODU0OSwgNzcuNjY1MTE1Ml0sCiAgICAgICAgICAgICAgICB7fQogICAgICAgICAgICApLmFkZFRvKG1hcF83NjA1NjllNWZhZDM0ZTZkODA1NjZlOWEzMzJjZjY2Mik7CiAgICAgICAgCiAgICAKICAgICAgICB2YXIgcG9wdXBfMjE1ZTE1ODJkZTYzNDQ0ZGExMjgyYTQ5ZTBiNjcxNjEgPSBMLnBvcHVwKHsibWF4V2lkdGgiOiAiMTAwJSJ9KTsKCiAgICAgICAgCiAgICAgICAgICAgIHZhciBodG1sX2E5Mjg3M2RlZjhiMzQ5NDVhYzEwZmE3NWFmODgzNTYyID0gJChgPGRpdiBpZD0iaHRtbF9hOTI4NzNkZWY4YjM0OTQ1YWMxMGZhNzVhZjg4MzU2MiIgc3R5bGU9IndpZHRoOiAxMDAuMCU7IGhlaWdodDogMTAwLjAlOyI+aGVyZTwvZGl2PmApWzBdOwogICAgICAgICAgICBwb3B1cF8yMTVlMTU4MmRlNjM0NDRkYTEyODJhNDllMGI2NzE2MS5zZXRDb250ZW50KGh0bWxfYTkyODczZGVmOGIzNDk0NWFjMTBmYTc1YWY4ODM1NjIpOwogICAgICAgIAoKICAgICAgICBtYXJrZXJfOGI1ZmE2MmY5MWVmNDNhOGI1MjE1ZmI5YTBhZWY1YzguYmluZFBvcHVwKHBvcHVwXzIxNWUxNTgyZGU2MzQ0NGRhMTI4MmE0OWUwYjY3MTYxKQogICAgICAgIDsKCiAgICAgICAgCiAgICAKICAgIAogICAgICAgICAgICB2YXIgbWFya2VyXzRkZWMwYzQ5MWZmYzRhOTk5ODU3ZmFiZDBkZWY5YjE4ID0gTC5tYXJrZXIoCiAgICAgICAgICAgICAgICBbMTIuOTE4NTYyLCA3Ny42NjQ3Nzk5XSwKICAgICAgICAgICAgICAgIHt9CiAgICAgICAgICAgICkuYWRkVG8obWFwXzc2MDU2OWU1ZmFkMzRlNmQ4MDU2NmU5YTMzMmNmNjYyKTsKICAgICAgICAKICAgIAogICAgICAgIHZhciBwb3B1cF9iNTBlZjA4MGRhY2Y0NTQ2OTgzMTM3OGNkMzU1NGFkNiA9IEwucG9wdXAoeyJtYXhXaWR0aCI6ICIxMDAlIn0pOwoKICAgICAgICAKICAgICAgICAgICAgdmFyIGh0bWxfN2Y2NzI4NjRmYWMwNGM2Mjk0NDI5MjYzMDM3ZjU5ODQgPSAkKGA8ZGl2IGlkPSJodG1sXzdmNjcyODY0ZmFjMDRjNjI5NDQyOTI2MzAzN2Y1OTg0IiBzdHlsZT0id2lkdGg6IDEwMC4wJTsgaGVpZ2h0OiAxMDAuMCU7Ij5oZXJlPC9kaXY+YClbMF07CiAgICAgICAgICAgIHBvcHVwX2I1MGVmMDgwZGFjZjQ1NDY5ODMxMzc4Y2QzNTU0YWQ2LnNldENvbnRlbnQoaHRtbF83ZjY3Mjg2NGZhYzA0YzYyOTQ0MjkyNjMwMzdmNTk4NCk7CiAgICAgICAgCgogICAgICAgIG1hcmtlcl80ZGVjMGM0OTFmZmM0YTk5OTg1N2ZhYmQwZGVmOWIxOC5iaW5kUG9wdXAocG9wdXBfYjUwZWYwODBkYWNmNDU0Njk4MzEzNzhjZDM1NTRhZDYpCiAgICAgICAgOwoKICAgICAgICAKICAgIAo8L3NjcmlwdD4= onload=\"this.contentDocument.open();this.contentDocument.write(atob(this.getAttribute('data-html')));this.contentDocument.close();\" allowfullscreen webkitallowfullscreen mozallowfullscreen></iframe></div></div>"
      ],
      "text/plain": [
       "<folium.folium.Map at 0x2dc03e86390>"
      ]
     },
     "execution_count": 90,
     "metadata": {},
     "output_type": "execute_result"
    }
   ],
   "source": [
    "building_no = 582127\n",
    "print(node_data[buildings[building_no][0]])\n",
    "test = folium.Map(location=node_data[buildings[building_no][0]], zoom_start=19)\n",
    "for ID in buildings[building_no]:\n",
    "    folium.Marker(node_data[ID], popup=\"here\").add_to(test)    \n",
    "print(\"area :\",building_detail[building_no][2])\n",
    "print(\"meters per px:\",M_PER_PX)\n",
    "test"
   ]
  },
  {
   "cell_type": "markdown",
   "metadata": {},
   "source": [
    "## Extracting only Useful nodes from list of edges obtained"
   ]
  },
  {
   "cell_type": "code",
   "execution_count": 91,
   "metadata": {},
   "outputs": [],
   "source": [
    "all_nodes = list(nodes.keys())\n",
    "for ID in all_nodes:\n",
    "    if(ID not in useful_nodes):\n",
    "        del nodes[ID]\n",
    "        del node_data[ID]"
   ]
  },
  {
   "cell_type": "markdown",
   "metadata": {},
   "source": [
    "## Storing all the data for use from now on"
   ]
  },
  {
   "cell_type": "code",
   "execution_count": 92,
   "metadata": {},
   "outputs": [
    {
     "name": "stdout",
     "output_type": "stream",
     "text": [
      "445653 445653\n"
     ]
    }
   ],
   "source": [
    "print(len(nodes), len(node_data))"
   ]
  },
  {
   "cell_type": "code",
   "execution_count": 93,
   "metadata": {},
   "outputs": [],
   "source": [
    "store(G, 'edges_list')\n",
    "store(nodes, 'node_xy')\n",
    "store(node_data, 'node_ll')\n",
    "store(buildings, 'building_boundaries')\n",
    "store(building_detail, 'building_details')"
   ]
  }
 ],
 "metadata": {
  "kernelspec": {
   "display_name": "Python 3.6.7 64-bit",
   "language": "python",
   "name": "python36764bitb4078c42e20c457aad221add00386046"
  },
  "language_info": {
   "codemirror_mode": {
    "name": "ipython",
    "version": 3
   },
   "file_extension": ".py",
   "mimetype": "text/x-python",
   "name": "python",
   "nbconvert_exporter": "python",
   "pygments_lexer": "ipython3",
   "version": "3.6.7"
  }
 },
 "nbformat": 4,
 "nbformat_minor": 2
}
