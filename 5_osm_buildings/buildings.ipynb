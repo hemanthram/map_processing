{
 "cells": [
  {
   "cell_type": "code",
   "execution_count": 1,
   "metadata": {},
   "outputs": [],
   "source": [
    "%matplotlib qt\n",
    "import xml.etree.ElementTree as ET\n",
    "from pylab import *\n",
    "import networkx as nx\n",
    "import pickle\n",
    "import numpy as np"
   ]
  },
  {
   "cell_type": "code",
   "execution_count": 2,
   "metadata": {},
   "outputs": [],
   "source": [
    "def store(data, name):\n",
    "    with open('../0_map_data_processed/'+name+'.p','wb') as f:\n",
    "        pickle.dump(data, f, protocol=pickle.HIGHEST_PROTOCOL)"
   ]
  },
  {
   "cell_type": "markdown",
   "metadata": {},
   "source": [
    "# Parsing the osm file using iterparse"
   ]
  },
  {
   "cell_type": "code",
   "execution_count": 9,
   "metadata": {},
   "outputs": [],
   "source": [
    "def getxy(lat,lon):\n",
    "    # gets X,Y xoordinates using latitude and longitude\n",
    "    R = 6378000             # Radius of earth\n",
    "    latr = lat*pi/180\n",
    "    lonr = lon*pi/180\n",
    "    x = R*cos(latr)*cos(lonr)\n",
    "    y = R*cos(latr)*sin(lonr)\n",
    "    return [x,y]\n",
    "\n",
    "def node_attributes(elem):\n",
    "    # Given a node element, gets its attributes like ID,latitude,longitude\n",
    "    ID = elem.get('id')\n",
    "    lat = float(elem.get('lat'))\n",
    "    lon = float(elem.get('lon'))\n",
    "    return ID,lat,lon\n",
    "\n",
    "def way_attributes(elem):\n",
    "    path = []\n",
    "    ID = elem.get('id')\n",
    "    for nd in elem:\n",
    "        if nd.tag == \"nd\":\n",
    "            path.append(nd.get('ref'))\n",
    "    return ID,path  \n",
    "\n",
    "def checkway(way,check):\n",
    "    for nd in way:\n",
    "        if(nd.tag == 'tag'):\n",
    "            if(nd.attrib['k'] == check):\n",
    "                return True\n",
    "                break\n",
    "    return False\n",
    "        \n",
    "def distance(x1,y1,x2,y2):\n",
    "    return sqrt((x2-x1)**2 + (y2-y1)**2)\n",
    "    \n",
    "    \n",
    "def parser(source):\n",
    "    \n",
    "    useful_nodes = {}\n",
    "    node = {}               # {'node_ID1' : [x1,y1], 'node_ID2' : [x2,y2],.... }\n",
    "    node_data = {}          # same as node but with lat and lon instead of x,y\n",
    "    way = {}                # {'way_ID1' : [nodes 1], 'way_ID2' : [nodes 2],.... }\n",
    "    G = []        # a list of edges - [(node1,node2,dist12),(node3,node4,dist34), ...]\n",
    "    buildings = []\n",
    "        \n",
    "    for event, elem in ET.iterparse(source):\n",
    "        if elem.tag == \"node\":\n",
    "            ID,lat,lon = node_attributes(elem)\n",
    "            node[ID] = getxy(lat,lon)\n",
    "            node_data[ID] = [lat,lon]\n",
    "            elem.clear()\n",
    "        \n",
    "        if elem.tag == \"way\":\n",
    "            if(checkway(elem, \"highway\")):\n",
    "                ID,path = way_attributes(elem)\n",
    "                for i in range(len(path)-1):\n",
    "                    [x1,y1] = node[path[i]]\n",
    "                    [x2,y2] = node[path[i+1]]\n",
    "                    d = distance(x1,y1,x2,y2)\n",
    "                    G.append((path[i],path[i+1],d)) # a list of tuples\n",
    "                    useful_nodes[path[i]] = True\n",
    "                    useful_nodes[path[i+1]] = True\n",
    "                way[ID] = path\n",
    "                elem.clear()\n",
    "            if(checkway(elem, \"building\")):\n",
    "                ID,path = way_attributes(elem)\n",
    "                buildings.append([])\n",
    "                for i in range(len(path)-1):\n",
    "                    [x1,y1] = node[path[i]]\n",
    "                    [x2,y2] = node[path[i+1]]\n",
    "                    buildings[-1].append((path[i],path[i+1])) # a list of tuples\n",
    "                elem.clear()\n",
    "        \n",
    "    return node_data,node,useful_nodes,G,buildings"
   ]
  },
  {
   "cell_type": "code",
   "execution_count": 18,
   "metadata": {},
   "outputs": [
    {
     "name": "stdout",
     "output_type": "stream",
     "text": [
      "Done\n"
     ]
    }
   ],
   "source": [
    "node_data,nodes,useful_nodes,G,buildings = parser('../0_map_data_raw/bangalore0')\n",
    "print('Done')"
   ]
  },
  {
   "cell_type": "code",
   "execution_count": 19,
   "metadata": {},
   "outputs": [
    {
     "name": "stdout",
     "output_type": "stream",
     "text": [
      "No of nodes -  3104016\n",
      "No of edges -  505146\n",
      "No of buildings -  587396\n"
     ]
    }
   ],
   "source": [
    "print(\"No of nodes - \" , len(node_data))\n",
    "print(\"No of edges - \" , len(G))\n",
    "print(\"No of buildings - \", len(buildings))"
   ]
  },
  {
   "cell_type": "code",
   "execution_count": 12,
   "metadata": {},
   "outputs": [],
   "source": [
    "# %%time\n",
    "M = nx.Graph()\n",
    "M.add_weighted_edges_from(G)"
   ]
  },
  {
   "cell_type": "code",
   "execution_count": 22,
   "metadata": {},
   "outputs": [
    {
     "name": "stdout",
     "output_type": "stream",
     "text": [
      "445653 505083\n",
      "445653\n"
     ]
    }
   ],
   "source": [
    "print(len(M.nodes()),len(M.edges()))\n",
    "print(len(useful_nodes))"
   ]
  },
  {
   "cell_type": "code",
   "execution_count": 20,
   "metadata": {},
   "outputs": [],
   "source": [
    "def poly_area(x,y):\n",
    "    correction = x[-1] * y[0] - y[-1]* x[0]\n",
    "    main_area = np.dot(x[:-1], y[1:]) - np.dot(y[:-1], x[1:])\n",
    "    return 0.5*np.abs(main_area + correction)"
   ]
  },
  {
   "cell_type": "code",
   "execution_count": 25,
   "metadata": {},
   "outputs": [],
   "source": [
    "for x,y,d in G:\n",
    "    x1,y1 = nodes[x]\n",
    "    x2,y2 = nodes[y]\n",
    "#     plot([-x1,-x2],[-y1,-y2],'-r',linewidth=0.5)\n",
    "building_detail=[]    \n",
    "for building in buildings:\n",
    "    x_array=[]\n",
    "    y_array=[]\n",
    "    for x,y in building:\n",
    "        x1,y1 = nodes[x]\n",
    "        x2,y2 = nodes[y]\n",
    "        x_array.extend((x1,x2))\n",
    "        y_array.extend((y1,y2))\n",
    "#         plot([-x1,-x2],[-y1,-y2],'-b',linewidth=1)\n",
    "    x_mid=sum(x_array)/len(x_array)\n",
    "    y_mid=sum(y_array)/len(y_array)\n",
    "    area =poly_area(x_array,y_array)\n",
    "    building_detail.append([x_mid,y_mid,area])    \n",
    "# show()"
   ]
  },
  {
   "cell_type": "code",
   "execution_count": 31,
   "metadata": {},
   "outputs": [
    {
     "name": "stdout",
     "output_type": "stream",
     "text": [
      "building boundaries\n",
      "[[('254438362', '254438363'), ('254438363', '254438364'), ('254438364', '254438365'), ('254438365', '254438362')], [('263870609', '263870628'), ('263870628', '263870646'), ('263870646', '263870666'), ('263870666', '263870609')], [('263871052', '263871073'), ('263871073', '263871078'), ('263871078', '263871083'), ('263871083', '263871052')], [('264111556', '264111557'), ('264111557', '264111558'), ('264111558', '264111559'), ('264111559', '264111556')], [('264112138', '264112139'), ('264112139', '264112140'), ('264112140', '264112141'), ('264112141', '264112138')]]\n",
      "building details\n",
      "[[1337177.7083392432, 6069845.451986134, 2146.015625], [1327990.8131399327, 6072924.47516153, 187.90625], [1327915.6947610066, 6072939.764428042, 351.328125], [1328019.3683700706, 6072907.2775828, 173.40234375], [1327976.8200176554, 6072916.4149402, 154.5859375]]\n",
      "no of buildings 587396\n"
     ]
    }
   ],
   "source": [
    "print(\"building boundaries\")\n",
    "print(buildings[:5])\n",
    "print(\"building details\")\n",
    "print(building_detail[:5])\n",
    "print('no of buildings',len(building_detail))"
   ]
  },
  {
   "cell_type": "markdown",
   "metadata": {},
   "source": [
    "## Extracting only Useful nodes from list of edges obtained"
   ]
  },
  {
   "cell_type": "code",
   "execution_count": 28,
   "metadata": {},
   "outputs": [],
   "source": [
    "all_nodes = list(nodes.keys())\n",
    "for ID in all_nodes:\n",
    "    if(ID not in useful_nodes):\n",
    "        del nodes[ID]\n",
    "        del node_data[ID]"
   ]
  },
  {
   "cell_type": "markdown",
   "metadata": {},
   "source": [
    "## Storing all the data for use from now on"
   ]
  },
  {
   "cell_type": "code",
   "execution_count": 29,
   "metadata": {},
   "outputs": [
    {
     "name": "stdout",
     "output_type": "stream",
     "text": [
      "445653 445653\n"
     ]
    }
   ],
   "source": [
    "print(len(nodes), len(node_data))"
   ]
  },
  {
   "cell_type": "code",
   "execution_count": 30,
   "metadata": {},
   "outputs": [],
   "source": [
    "store(G, 'edges_list')\n",
    "store(nodes, 'node_xy')\n",
    "store(node_data, 'node_ll')\n",
    "store(buildings, 'building_boundaries')\n",
    "store(building_detail, 'building_details')"
   ]
  }
 ],
 "metadata": {
  "kernelspec": {
   "display_name": "Python 3",
   "language": "python",
   "name": "python3"
  },
  "language_info": {
   "codemirror_mode": {
    "name": "ipython",
    "version": 3
   },
   "file_extension": ".py",
   "mimetype": "text/x-python",
   "name": "python",
   "nbconvert_exporter": "python",
   "pygments_lexer": "ipython3",
   "version": "3.7.3"
  }
 },
 "nbformat": 4,
 "nbformat_minor": 2
}
