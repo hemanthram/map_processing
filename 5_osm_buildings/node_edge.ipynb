{
 "cells": [
  {
   "cell_type": "code",
   "execution_count": 1,
   "metadata": {},
   "outputs": [],
   "source": [
    "# %matplotlib qt\n",
    "import pickle\n",
    "import os\n",
    "from pylab import *\n",
    "import math\n",
    "import folium"
   ]
  },
  {
   "cell_type": "code",
   "execution_count": 2,
   "metadata": {},
   "outputs": [],
   "source": [
    "def loadFile(name):\n",
    "    with open(name,\"rb\") as f:\n",
    "        return pickle.load(f)"
   ]
  },
  {
   "cell_type": "code",
   "execution_count": 107,
   "metadata": {},
   "outputs": [],
   "source": [
    "nodexy = loadFile('../0_map_data_processed/node_xy.p')\n",
    "nodell = loadFile('../0_map_data_processed/node_ll.p')\n",
    "windows = loadFile('../3_windowing_the_map/map_windows/windows.p')\n",
    "params = loadFile('../3_windowing_the_map/map_windows/data.p')"
   ]
  },
  {
   "cell_type": "code",
   "execution_count": 108,
   "metadata": {},
   "outputs": [
    {
     "name": "stdout",
     "output_type": "stream",
     "text": [
      "{'x_offset': 23986546, 'y_offset': 15527555, 'x_window': 100, 'y_window': 100}\n"
     ]
    }
   ],
   "source": [
    "x_offset = params['x_offset']\n",
    "y_offset = params['y_offset']\n",
    "x_window = params['x_window']\n",
    "y_window = params['y_window']\n",
    "R = 6378000\n",
    "print(params)"
   ]
  },
  {
   "cell_type": "code",
   "execution_count": 109,
   "metadata": {},
   "outputs": [
    {
     "name": "stdout",
     "output_type": "stream",
     "text": [
      "Number of windows : 73692\n"
     ]
    }
   ],
   "source": [
    "print('Number of windows :',len(windows))"
   ]
  },
  {
   "cell_type": "code",
   "execution_count": 110,
   "metadata": {},
   "outputs": [],
   "source": [
    "def findFoot(x,y,x1,y1,x2,y2):\n",
    "    a = y2-y1; b = x1-x2\n",
    "    c = y1*(x2-x1) - x1*(y2-y1)\n",
    "    temp = -(a*x+b*y+c)/(a**2+b**2)\n",
    "    return temp*a+x,temp*b+y"
   ]
  },
  {
   "cell_type": "code",
   "execution_count": 115,
   "metadata": {},
   "outputs": [
    {
     "name": "stdout",
     "output_type": "stream",
     "text": [
      "24007830.20356039,15558218.58301493\n",
      "The window corresponding to given point: 212 306\n"
     ]
    }
   ],
   "source": [
    "# lat,lon = map(float,input('').split(','))\n",
    "# ZOOM = 17\n",
    "# scale = (2**ZOOM)*(256)\n",
    "# R = 6378137 #scale = SCALE\n",
    "# siny = math.sin(lat*(pi/180))\n",
    "# siny = min(max(siny, -0.9999999999),0.99999999999)\n",
    "# x = scale*(0.5+(lon/360))\n",
    "# y = scale*(0.5-(math.log((1+siny)/(1-siny))/(4*pi)))\n",
    "x,y = map(float,input('').split(','))\n",
    "x_w = (int(x)-x_offset)//x_window\n",
    "y_w = (int(y)-y_offset)//y_window\n",
    "mn = math.inf\n",
    "print('The window corresponding to given point:',x_w,y_w)"
   ]
  },
  {
   "cell_type": "code",
   "execution_count": 157,
   "metadata": {},
   "outputs": [],
   "source": [
    "def findEdgeIndex(x,y,p=False):\n",
    "    x_w = (int(x)-x_offset)//x_window\n",
    "    y_w = (int(y)-y_offset)//y_window\n",
    "    w_codes = []\n",
    "    for i in range(-2,3):\n",
    "        for j in range(-2,3):\n",
    "            code = str(x_w+i)+'_'+str(y_w+j)\n",
    "            if(code not in windows):\n",
    "                continue\n",
    "            w_codes.append(code)\n",
    "    if(len(w_codes) == 0):\n",
    "        print('*',end=' ')\n",
    "        return(-2)\n",
    "    mn = math.inf\n",
    "    add_edge = []\n",
    "    for code in w_codes:\n",
    "        for edge in windows[code]:\n",
    "            x1,y1 = nodexy[edge[0]]\n",
    "            x2,y2 = nodexy[edge[1]]\n",
    "            fx,fy = findFoot(x,y,x1,y1,x2,y2)\n",
    "            dst1 = math.inf\n",
    "            if(fx >= min(x1,x2) and fx <= max(x1,x2)):\n",
    "                dst1 = (x-fx)**2 + (y-fy)**2\n",
    "                if(dst1 < mn):\n",
    "                    mn = dst1; loc = [fx,fy]\n",
    "                    add_edge = edge\n",
    "            dst2 = (x-x1)**2 + (y-y1)**2\n",
    "            if(dst2 < mn):\n",
    "                mn = dst2; loc = [x1,y1]\n",
    "                add_edge = edge\n",
    "            dst3 = (x-x2)**2 + (y-y2)**2\n",
    "            if(dst3 < mn):\n",
    "                mn = dst3; loc = [x2,y2]\n",
    "                add_edge = edge\n",
    "            if(min(dst1,dst2,dst3) < 400):\n",
    "                building_density[edge[3]] += 1\n",
    "    if(p):\n",
    "        print('Given x,y:',x,y)\n",
    "        print('Location on edge:',loc)\n",
    "        print('The corresponding edge:',add_edge)\n",
    "    if(mn < 150):\n",
    "        return(add_edge[3])\n",
    "    else:\n",
    "        return(-1)"
   ]
  },
  {
   "cell_type": "code",
   "execution_count": 113,
   "metadata": {},
   "outputs": [],
   "source": [
    "# Loading all the necessary files\n",
    "G = loadFile('../0_map_data_processed/edges_list.p')\n",
    "building_details = loadFile('../0_map_data_processed/building_details.p')"
   ]
  },
  {
   "cell_type": "code",
   "execution_count": 146,
   "metadata": {},
   "outputs": [
    {
     "name": "stdout",
     "output_type": "stream",
     "text": [
      "Given x,y: 24007830.20356039 15558218.58301493\n",
      "Location on edge: [24007827.264201593, 15558216.701748017]\n",
      "The corresponding edge: ('3309317506', '3309317502', 39.40460976772992, 234511)\n",
      "Wall time: 0 ns\n"
     ]
    },
    {
     "data": {
      "text/plain": [
       "('3309317506', '3309317502', 39.40460976772992, 234511)"
      ]
     },
     "execution_count": 146,
     "metadata": {},
     "output_type": "execute_result"
    }
   ],
   "source": [
    "%%time\n",
    "G[findEdgeIndex(24007830.20356039,15558218.58301493,True)]"
   ]
  },
  {
   "cell_type": "code",
   "execution_count": 158,
   "metadata": {},
   "outputs": [
    {
     "name": "stdout",
     "output_type": "stream",
     "text": [
      "1 2 3 4 5 6 7 8 9 10 11 12 13 14 * * * * * * * * 15 16 17 18 19 20 21 22 23 24 25 26 27 * 28 29 30 31 32 33 34 35 36 37 38 39 40 41 42 43 44 45 46 47 48 49 50 51 52 53 54 55 56 57 58 59 60 61 62 * * * * 63 64 * * * * 65 66 67 68 69 70 71 72 73 74 75 76 77 78 79 80 81 82 83 84 85 86 87 88 89 90 91 92 93 * * 94 95 96 97 98 99 100 101 102 103 104 105 106 107 108 109 110 111 112 113 114 115 116 117 118 119 120 121 122 123 124 125 126 127 128 129 130 131 132 133 134 135 136 137 138 139 140 141 142 143 144 145 146 147 148 149 150 151 152 153 154 155 156 157 158 159 160 161 162 163 164 165 166 167 168 169 170 171 172 173 174 175 176 177 178 179 180 181 182 183 184 185 186 187 188 189 190 191 192 193 194 195 196 197 198 199 200 201 202 203 204 205 206 207 208 209 210 211 * * * * * * * 212 213 214 215 216 217 218 219 220 221 222 223 224 225 226 227 228 229 230 231 232 233 234 235 236 237 238 239 240 241 242 243 244 245 246 247 248 249 250 251 252 253 254 255 256 257 258 259 260 261 262 263 264 265 266 267 268 269 270 271 272 273 274 275 276 277 278 279 280 281 282 283 284 285 286 287 * * 288 289 290 291 292 293 294 295 296 297 298 299 300 301 302 303 304 305 306 307 308 309 310 311 312 313 314 315 316 317 318 319 320 321 322 323 324 325 326 327 328 329 330 331 332 333 334 335 336 337 338 339 340 341 342 343 344 345 346 347 348 349 350 * * 351 * * * * * 352 353 354 355 356 357 358 359 * * * * * * * * * * 360 361 362 * * * * * * * * * * * * 363 * * * * * * * * * * * * * * * * * * * * * * * * * * * * * * * * * * * * * * * * * * * * * * * * * * * * * * * * * * * * * * * * * * * * * * * * * * * * * * * * * * * * * * * * * * * * * * * * * 364 * * * * * * * * * * * * * * * * * * * * * * * * * * * * * * * * * * 365 366 367 368 369 370 371 372 373 374 375 376 377 378 379 380 381 382 383 384 385 386 387 * 388 389 390 391 392 393 394 395 396 397 398 399 400 401 402 403 404 405 406 407 408 409 410 411 412 413 414 415 416 417 418 419 420 421 422 423 424 425 426 427 428 429 430 431 432 433 434 435 436 437 438 439 440 441 442 443 444 445 446 447 448 449 450 451 452 453 454 455 456 457 458 459 460 461 462 463 464 465 466 467 468 469 470 471 472 473 474 475 476 477 478 479 480 481 482 483 484 485 486 487 488 489 490 491 492 493 494 495 496 497 498 499 500 501 502 503 504 505 506 507 508 509 510 511 512 513 514 515 516 517 518 519 520 521 522 523 524 525 526 527 528 529 530 531 532 533 534 535 536 537 538 539 540 541 542 543 544 545 546 547 548 549 550 551 552 553 554 555 556 557 558 559 560 561 562 563 564 565 566 567 * * 568 569 570 571 572 573 574 575 576 577 578 579 580 581 582 583 584 585 586 587 \n",
      "Error Buildings: 191\n",
      "Done\n"
     ]
    }
   ],
   "source": [
    "# %%time\n",
    "building_density = [0]*(len(G))\n",
    "cnt = 1; invalid = 0\n",
    "for x,y,a in building_details:\n",
    "    if(cnt%1000 == 0):\n",
    "        print(cnt//1000, end=' ')\n",
    "    cnt += 1\n",
    "    res = findEdgeIndex(x,y)\n",
    "    if(res == -2):\n",
    "        invalid += 1\n",
    "print('')\n",
    "print(\"Error Buildings:\",invalid)\n",
    "print(\"Done\")"
   ]
  },
  {
   "cell_type": "code",
   "execution_count": 164,
   "metadata": {},
   "outputs": [
    {
     "name": "stdout",
     "output_type": "stream",
     "text": [
      "136\n"
     ]
    }
   ],
   "source": [
    "print(max(building_density))"
   ]
  },
  {
   "cell_type": "code",
   "execution_count": 162,
   "metadata": {},
   "outputs": [
    {
     "name": "stdout",
     "output_type": "stream",
     "text": [
      "Buidling Density : 4\n"
     ]
    },
    {
     "data": {
      "text/html": [
       "<div style=\"width:100%;\"><div style=\"position:relative;width:100%;height:0;padding-bottom:60%;\"><span style=\"color:#565656\">Make this Notebook Trusted to load map: File -> Trust Notebook</span><iframe src=\"about:blank\" style=\"position:absolute;width:100%;height:100%;left:0;top:0;border:none !important;\" data-html=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 onload=\"this.contentDocument.open();this.contentDocument.write(atob(this.getAttribute('data-html')));this.contentDocument.close();\" allowfullscreen webkitallowfullscreen mozallowfullscreen></iframe></div></div>"
      ],
      "text/plain": [
       "<folium.folium.Map at 0x1ab2a28d320>"
      ]
     },
     "execution_count": 162,
     "metadata": {},
     "output_type": "execute_result"
    }
   ],
   "source": [
    "edge_no = 1233\n",
    "test = folium.Map(location=nodell[G[edge_no][0]], zoom_start=19)\n",
    "folium.Marker(nodell[G[edge_no][0]], popup=\"here\").add_to(test)\n",
    "folium.Marker(nodell[G[edge_no][1]], popup=\"here\").add_to(test)\n",
    "print(\"Buidling Density :\", building_density[edge_no])\n",
    "test"
   ]
  },
  {
   "cell_type": "code",
   "execution_count": 163,
   "metadata": {},
   "outputs": [],
   "source": [
    "def store(data, name):\n",
    "    with open('../0_map_data_processed/'+name+'.p','wb') as f:\n",
    "        pickle.dump(data, f, protocol=pickle.HIGHEST_PROTOCOL)\n",
    "store(building_density, 'building_density')"
   ]
  }
 ],
 "metadata": {
  "kernelspec": {
   "display_name": "Python 3.6.7 64-bit",
   "language": "python",
   "name": "python36764bitb4078c42e20c457aad221add00386046"
  },
  "language_info": {
   "codemirror_mode": {
    "name": "ipython",
    "version": 3
   },
   "file_extension": ".py",
   "mimetype": "text/x-python",
   "name": "python",
   "nbconvert_exporter": "python",
   "pygments_lexer": "ipython3",
   "version": "3.6.7"
  }
 },
 "nbformat": 4,
 "nbformat_minor": 2
}
