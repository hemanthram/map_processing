{
 "cells": [
  {
   "cell_type": "code",
   "execution_count": 1,
   "metadata": {},
   "outputs": [],
   "source": [
    "from selenium import webdriver\n",
    "from selenium.webdriver.common.by import By\n",
    "from selenium.webdriver.support.ui import WebDriverWait\n",
    "from selenium.webdriver.support import expected_conditions as EC\n",
    "from selenium.webdriver.common.keys import Keys\n",
    "import time"
   ]
  },
  {
   "cell_type": "code",
   "execution_count": 2,
   "metadata": {},
   "outputs": [],
   "source": [
    "def open_page():\n",
    "    \n",
    "    global browser\n",
    "    browser = webdriver.Chrome(executable_path = './chromedriver') # I've used firefox browser\n",
    "    browser.get('https://earthexplorer.usgs.gov/')\n",
    "    \n",
    "def get_coords(address):\n",
    "        \n",
    "    # assert 'EarthExplorer - Home' in browser.title\n",
    "    \n",
    "    elem = WebDriverWait(browser, 10).until(EC.presence_of_element_located((By.NAME, \"googleAddress\")))\n",
    "    elem.send_keys(address)\n",
    "    \n",
    "    show = WebDriverWait(browser, 10).until(EC.presence_of_element_located((By.ID, \"geoShow\")))\n",
    "    show.click()\n",
    "    \n",
    "    time.sleep(2)\n",
    "    \n",
    "    address =  browser.find_elements_by_class_name(\"address\")\n",
    "    lat = browser.find_elements_by_class_name(\"lat\")\n",
    "    lng = browser.find_elements_by_class_name(\"lng\")\n",
    "    \n",
    "    D = []\n",
    "    for i in range(len(address)):\n",
    "        D.append((address[i].text,lat[i].text,lng[i].text))\n",
    "    \n",
    "    clear = WebDriverWait(browser, 10).until(EC.presence_of_element_located((By.ID, \"geoClear\")))\n",
    "    clear.click()\n",
    "    \n",
    "    return D # D is a list of (address,lat,long)\n",
    "    \n",
    "def kill():    \n",
    "    browser.quit()    "
   ]
  },
  {
   "cell_type": "markdown",
   "metadata": {},
   "source": [
    "# Example (for analysing time taken)"
   ]
  },
  {
   "cell_type": "code",
   "execution_count": 3,
   "metadata": {},
   "outputs": [],
   "source": [
    "address = 'Bangalore'"
   ]
  },
  {
   "cell_type": "code",
   "execution_count": 4,
   "metadata": {},
   "outputs": [
    {
     "name": "stdout",
     "output_type": "stream",
     "text": [
      "Wall time: 42.8 s\n"
     ]
    }
   ],
   "source": [
    "%%time\n",
    "open_page()"
   ]
  },
  {
   "cell_type": "code",
   "execution_count": 5,
   "metadata": {},
   "outputs": [
    {
     "name": "stdout",
     "output_type": "stream",
     "text": [
      "Wall time: 2.56 s\n"
     ]
    }
   ],
   "source": [
    "%%time\n",
    "D = get_coords(address)"
   ]
  },
  {
   "cell_type": "code",
   "execution_count": 6,
   "metadata": {},
   "outputs": [
    {
     "name": "stdout",
     "output_type": "stream",
     "text": [
      "Wall time: 2.15 s\n"
     ]
    }
   ],
   "source": [
    "%%time\n",
    "kill()"
   ]
  },
  {
   "cell_type": "code",
   "execution_count": 19,
   "metadata": {},
   "outputs": [
    {
     "data": {
      "text/plain": [
       "[('Bengaluru, Karnataka, India', '12.9716', '77.5946')]"
      ]
     },
     "execution_count": 19,
     "metadata": {},
     "output_type": "execute_result"
    }
   ],
   "source": [
    "D"
   ]
  },
  {
   "cell_type": "markdown",
   "metadata": {},
   "source": [
    "# Test case\n"
   ]
  },
  {
   "cell_type": "code",
   "execution_count": 7,
   "metadata": {},
   "outputs": [],
   "source": [
    "Ads = ['bangalore airport', 'kempewgowda,bangalore' , 'whitefield,bangalore ', 'Mathikere,bangalore']"
   ]
  },
  {
   "cell_type": "code",
   "execution_count": 8,
   "metadata": {},
   "outputs": [
    {
     "name": "stdout",
     "output_type": "stream",
     "text": [
      "Wall time: 43.6 s\n"
     ]
    }
   ],
   "source": [
    "%%time\n",
    "open_page()"
   ]
  },
  {
   "cell_type": "code",
   "execution_count": 6,
   "metadata": {},
   "outputs": [
    {
     "name": "stdout",
     "output_type": "stream",
     "text": [
      "address -  Kempegowda International Airport Bengaluru (BLR), KIAL Rd, Devanahalli, Bengaluru, Karnataka 560300, India\n",
      "latitude -  13.1986\n",
      "longitude -  77.7066\n",
      "\n",
      "\n",
      "address -  Bangalore International Airport, Kempegowda Int'l Airport Rd, Hunachur, Karnataka 560300, India\n",
      "latitude -  13.2025\n",
      "longitude -  77.7023\n",
      "\n",
      "\n",
      "address -  Kempegowda International Airport Bengaluru (BLR), KIAL Rd, Devanahalli, Bengaluru, Karnataka 560300, India\n",
      "latitude -  13.1986\n",
      "longitude -  77.7066\n",
      "\n",
      "\n",
      "address -  Whitefield, Bengaluru, Karnataka, India\n",
      "latitude -  12.9698\n",
      "longitude -  77.7500\n",
      "\n",
      "\n",
      "address -  Mathikere, Bengaluru, Karnataka, India\n",
      "latitude -  13.0334\n",
      "longitude -  77.5640\n",
      "\n",
      "\n",
      "Wall time: 10 s\n"
     ]
    }
   ],
   "source": [
    "%%time\n",
    "for address in Ads:\n",
    "    a = get_coords(address)\n",
    "    \n",
    "    for j in range(len(a)):\n",
    "        print(\"address - \", a[j][0])\n",
    "        print(\"latitude - \", a[j][1])\n",
    "        print(\"longitude - \", a[j][2])\n",
    "        print(\"\\n\")"
   ]
  },
  {
   "cell_type": "code",
   "execution_count": 16,
   "metadata": {},
   "outputs": [
    {
     "name": "stdout",
     "output_type": "stream",
     "text": [
      "Wall time: 6.14 s\n"
     ]
    }
   ],
   "source": [
    "%%time\n",
    "kill()"
   ]
  }
 ],
 "metadata": {
  "kernelspec": {
   "display_name": "Python 3",
   "language": "python",
   "name": "python3"
  },
  "language_info": {
   "codemirror_mode": {
    "name": "ipython",
    "version": 3
   },
   "file_extension": ".py",
   "mimetype": "text/x-python",
   "name": "python",
   "nbconvert_exporter": "python",
   "pygments_lexer": "ipython3",
   "version": "3.7.3"
  }
 },
 "nbformat": 4,
 "nbformat_minor": 2
}
