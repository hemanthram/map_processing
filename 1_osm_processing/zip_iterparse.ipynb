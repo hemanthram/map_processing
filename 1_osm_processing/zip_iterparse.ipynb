{
 "cells": [
  {
   "cell_type": "code",
   "execution_count": 1,
   "metadata": {},
   "outputs": [],
   "source": [
    "import networkx as nx\n",
    "import zipfile\n",
    "import xml.etree.ElementTree as ET\n",
    "from pylab import *\n",
    "from math import radians, cos, sin, asin, sqrt, atan2 "
   ]
  },
  {
   "cell_type": "code",
   "execution_count": 22,
   "metadata": {},
   "outputs": [
    {
     "name": "stdout",
     "output_type": "stream",
     "text": [
      "Wall time: 0 ns\n"
     ]
    }
   ],
   "source": [
    "%%time\n",
    "\n",
    "R = 6371000             # Radius of earth\n",
    "    \n",
    "def getxy(lat,lon):\n",
    "    # gets X,Y xoordinates using latitude and longitude\n",
    "    R = 6371000             # Radius of earth\n",
    "    latr = lat*pi/180\n",
    "    lonr = lon*pi/180\n",
    "    x = R*cos(latr)*cos(lonr)\n",
    "    y = R*cos(latr)*sin(lonr)\n",
    "    return [x,y]\n",
    "\n",
    "\n",
    "def node_attributes(elem):\n",
    "    # Given a node element, gets its attributes like ID,latitude,longitude\n",
    "    ID = elem.get('id')\n",
    "    lat = float(elem.get('lat'))\n",
    "    lon = float(elem.get('lon'))\n",
    "    return ID,lat,lon\n",
    "\n",
    "def way_attributes(elem):\n",
    "    path = []\n",
    "    ID = elem.get('id')\n",
    "    for nd in elem:\n",
    "        if nd.tag == \"nd\":\n",
    "            path.append(nd.get('ref'))\n",
    "    return ID,path  \n",
    "\n",
    "def distance(x1,y1,x2,y2):\n",
    "    return sqrt((x2-x1)**2 + (y2-y1)**2)   \n",
    "\n",
    "def haversine_dist(lat1, lon1, lat2, lon2):\n",
    "    p = pi/180\n",
    "    a = (sin(((lat2-lat1)*p)/2)**2)  + (cos(lat1*p) * cos(lat2*p) * (sin(((lon2-lon1)*p)/2)**2))\n",
    "    return 2 * R * atan2(sqrt(a),sqrt(1-a)) #2*R*asin...\n",
    "    \n",
    "def haversine_dist1(lat1, lon1, lat2, lon2):\n",
    "    p = pi/180\n",
    "    a = 0.5 - cos((lat2-lat1)*p)/2 + cos(lat1*p) * cos(lat2*p) * (1-cos((lon2-lon1)*p))/2\n",
    "    return 2 * R * asin(sqrt(a)) #2*R*asin...\n",
    "    \n",
    "\n",
    "def parser_xy_dist(source):\n",
    "    \n",
    "    node = {}               # {'node_ID1' : [x1,y1], 'node_ID2' : [x2,y2],.... }\n",
    "    node_data = {}          # same as node but with lat and lon instead of x,y\n",
    "    way = {}                # {'way_ID1' : [nodes 1], 'way_ID2' : [nodes 2],.... }\n",
    "    G = []                  # a list of edges - [(node1,node2,dist12),(node3,node4,dist34), ...]\n",
    "        \n",
    "    for event, elem in ET.iterparse(source):\n",
    "        if elem.tag == \"node\":\n",
    "            ID,lat,lon = node_attributes(elem)\n",
    "            node[ID] = getxy(lat,lon)\n",
    "            node_data[ID] = [lat,lon]\n",
    "            elem.clear()\n",
    "        \n",
    "        if elem.tag == \"way\":\n",
    "            ID,path = way_attributes(elem)\n",
    "            for i in range(len(path)-1):\n",
    "                [x1,y1] = node[path[i]]\n",
    "                [x2,y2] = node[path[i+1]]\n",
    "                d = distance(x1,y1,x2,y2)\n",
    "                G.append((path[i],path[i+1],d)) # a list of tuples\n",
    "            way[ID] = path\n",
    "            elem.clear()\n",
    "        \n",
    "    return node_data,way,G\n",
    "\n",
    "    \n",
    "def parser_haversine(source):\n",
    "    \n",
    "    node = {}               # {'node_ID1' : [x1,y1], 'node_ID2' : [x2,y2],.... }\n",
    "    node_data = {}          # same as node but with lat and lon instead of x,y\n",
    "    way = {}                # {'way_ID1' : [nodes 1], 'way_ID2' : [nodes 2],.... }\n",
    "    G = []                  # a list of edges - [(node1,node2,dist12),(node3,node4,dist34), ...]\n",
    "    \n",
    "    for event, elem in ET.iterparse(source):\n",
    "        if elem.tag == \"node\":\n",
    "            ID,lat,lon = node_attributes(elem)\n",
    "            #node[ID] = getxy(lat,lon)\n",
    "            node_data[ID] = [lat,lon]\n",
    "            elem.clear()\n",
    "        \n",
    "        if elem.tag == \"way\":\n",
    "            ID,path = way_attributes(elem)\n",
    "            for i in range(len(path)-1):\n",
    "                [lat1,lon1] = node_data[path[i]]\n",
    "                [lat2,lon2] = node_data[path[i+1]]\n",
    "                d = haversine_dist1(lat1, lon1, lat2, lon2)\n",
    "                G.append((path[i],path[i+1],d)) # a list of tuples\n",
    "            way[ID] = path\n",
    "            elem.clear()\n",
    "        \n",
    "    return node_data,way,G\n",
    "    "
   ]
  },
  {
   "cell_type": "markdown",
   "metadata": {},
   "source": [
    "# Main()"
   ]
  },
  {
   "cell_type": "code",
   "execution_count": 23,
   "metadata": {},
   "outputs": [
    {
     "name": "stdout",
     "output_type": "stream",
     "text": [
      "Wall time: 31.3 s\n"
     ]
    }
   ],
   "source": [
    "%%time\n",
    "with zipfile.ZipFile('map.zip') as z:\n",
    "        for a in z.namelist():\n",
    "            with z.open(a) as f:\n",
    "                node_data,way,G = parser_haversine(f)"
   ]
  },
  {
   "cell_type": "markdown",
   "metadata": {},
   "source": [
    "# for haversine"
   ]
  },
  {
   "cell_type": "code",
   "execution_count": 18,
   "metadata": {},
   "outputs": [
    {
     "data": {
      "text/plain": [
       "(('431610691', '431610692', 181.63306848583315), 1840778)"
      ]
     },
     "execution_count": 18,
     "metadata": {},
     "output_type": "execute_result"
    }
   ],
   "source": [
    "G[1], len(G)"
   ]
  },
  {
   "cell_type": "code",
   "execution_count": 14,
   "metadata": {},
   "outputs": [
    {
     "name": "stdout",
     "output_type": "stream",
     "text": [
      "1802819 1833780\n",
      "IF WE CONSIDER SUM OF EDGE WEIGHTS\n",
      "Toal length of road in km =  28923.104345403364\n",
      "Wall time: 8.44 s\n"
     ]
    }
   ],
   "source": [
    "%%time\n",
    "M = nx.Graph()\n",
    "M.add_weighted_edges_from(G)\n",
    "print(len(M.nodes()),len(M.edges()))\n",
    "\n",
    "p = M.size(weight='weight')\n",
    "print(\"IF WE CONSIDER SUM OF EDGE WEIGHTS\")\n",
    "print(\"Toal length of road in km = \", p/1000)"
   ]
  },
  {
   "cell_type": "code",
   "execution_count": 15,
   "metadata": {},
   "outputs": [
    {
     "data": {
      "text/plain": [
       "29271.813747008833"
      ]
     },
     "execution_count": 15,
     "metadata": {},
     "output_type": "execute_result"
    }
   ],
   "source": [
    "d = 0\n",
    "for i in G:\n",
    "    d += i[2]\n",
    "d/1000"
   ]
  },
  {
   "cell_type": "markdown",
   "metadata": {},
   "source": [
    "# for haversine1"
   ]
  },
  {
   "cell_type": "code",
   "execution_count": 19,
   "metadata": {},
   "outputs": [
    {
     "data": {
      "text/plain": [
       "(('431610691', '431610692', 181.63306848583315), 1840778)"
      ]
     },
     "execution_count": 19,
     "metadata": {},
     "output_type": "execute_result"
    }
   ],
   "source": [
    "G[1], len(G)"
   ]
  },
  {
   "cell_type": "code",
   "execution_count": 20,
   "metadata": {},
   "outputs": [
    {
     "name": "stdout",
     "output_type": "stream",
     "text": [
      "1802819 1833780\n",
      "IF WE CONSIDER SUM OF EDGE WEIGHTS\n",
      "Toal length of road in km =  28923.07130067917\n",
      "Wall time: 7.31 s\n"
     ]
    }
   ],
   "source": [
    "%%time\n",
    "M = nx.Graph()\n",
    "M.add_weighted_edges_from(G)\n",
    "print(len(M.nodes()),len(M.edges()))\n",
    "\n",
    "p = M.size(weight='weight')\n",
    "print(\"IF WE CONSIDER SUM OF EDGE WEIGHTS\")\n",
    "print(\"Toal length of road in km = \", p/1000)"
   ]
  },
  {
   "cell_type": "code",
   "execution_count": 21,
   "metadata": {},
   "outputs": [
    {
     "data": {
      "text/plain": [
       "29271.780456257642"
      ]
     },
     "execution_count": 21,
     "metadata": {},
     "output_type": "execute_result"
    }
   ],
   "source": [
    "d = 0\n",
    "for i in G:\n",
    "    d += i[2]\n",
    "d/1000"
   ]
  },
  {
   "cell_type": "markdown",
   "metadata": {},
   "source": [
    "# for xy dist"
   ]
  },
  {
   "cell_type": "code",
   "execution_count": 5,
   "metadata": {},
   "outputs": [
    {
     "data": {
      "text/plain": [
       "(('431610691', '431610692', 181.3593280944386), 1840778)"
      ]
     },
     "execution_count": 5,
     "metadata": {},
     "output_type": "execute_result"
    }
   ],
   "source": [
    "G[1], len(G)"
   ]
  },
  {
   "cell_type": "code",
   "execution_count": 7,
   "metadata": {},
   "outputs": [
    {
     "name": "stdout",
     "output_type": "stream",
     "text": [
      "1802819 1833780\n",
      "IF WE CONSIDER SUM OF EDGE WEIGHTS\n",
      "Toal length of road in km =  18811.62367065609\n",
      "Wall time: 8.13 s\n"
     ]
    }
   ],
   "source": [
    "%%time\n",
    "M = nx.Graph()\n",
    "M.add_weighted_edges_from(G)\n",
    "print(len(M.nodes()),len(M.edges()))\n",
    "\n",
    "p = M.size(weight='weight')\n",
    "print(\"IF WE CONSIDER SUM OF EDGE WEIGHTS\")\n",
    "print(\"Toal length of road in km = \", p/1000)"
   ]
  },
  {
   "cell_type": "code",
   "execution_count": 8,
   "metadata": {},
   "outputs": [],
   "source": [
    "d = 0\n",
    "for i in G:\n",
    "    d += i[2]"
   ]
  },
  {
   "cell_type": "code",
   "execution_count": 9,
   "metadata": {},
   "outputs": [
    {
     "data": {
      "text/plain": [
       "19047.66712596479"
      ]
     },
     "execution_count": 9,
     "metadata": {},
     "output_type": "execute_result"
    }
   ],
   "source": [
    "d/1000"
   ]
  },
  {
   "cell_type": "code",
   "execution_count": null,
   "metadata": {},
   "outputs": [],
   "source": []
  },
  {
   "cell_type": "code",
   "execution_count": null,
   "metadata": {},
   "outputs": [],
   "source": []
  },
  {
   "cell_type": "markdown",
   "metadata": {},
   "source": [
    "# TRY"
   ]
  },
  {
   "cell_type": "code",
   "execution_count": null,
   "metadata": {},
   "outputs": [],
   "source": [
    "m = {k: node_data[k] for k in list(node_data)[:5]}\n",
    "n = {k: way[k] for k in list(way)[:5]}\n",
    "print(\"top 5 elemets in node_data - \\n\", m, \"\\n\")\n",
    "print(\"top 5 elemets in way - \\n\", n, \"\\n\")\n",
    "print(\"top 5 elemets in G -  \\n\", G[:5], \"\\n\")"
   ]
  },
  {
   "cell_type": "code",
   "execution_count": null,
   "metadata": {},
   "outputs": [],
   "source": [
    "\n",
    "\n",
    "def from_zip(Zipfile):\n",
    "    with zipfile.ZipFile(Zipfile) as z:\n",
    "        for map in z.namelist():\n",
    "            with z.open(map) as f:\n",
    "                #print(map)\n",
    "                node_data,way,G = parser(f)"
   ]
  }
 ],
 "metadata": {
  "kernelspec": {
   "display_name": "Python 3",
   "language": "python",
   "name": "python3"
  },
  "language_info": {
   "codemirror_mode": {
    "name": "ipython",
    "version": 3
   },
   "file_extension": ".py",
   "mimetype": "text/x-python",
   "name": "python",
   "nbconvert_exporter": "python",
   "pygments_lexer": "ipython3",
   "version": "3.7.3"
  }
 },
 "nbformat": 4,
 "nbformat_minor": 4
}
