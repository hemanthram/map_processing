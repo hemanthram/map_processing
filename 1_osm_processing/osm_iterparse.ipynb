{
 "cells": [
  {
   "cell_type": "code",
   "execution_count": 1,
   "metadata": {},
   "outputs": [],
   "source": [
    "import xml.etree.ElementTree as ET\n",
    "from pylab import *\n",
    "import networkx as nx\n",
    "import pickle"
   ]
  },
  {
   "cell_type": "code",
   "execution_count": 2,
   "metadata": {},
   "outputs": [],
   "source": [
    "def store(data, name):\n",
    "    with open('../0_map_data_processed/'+name+'.p','wb') as f:\n",
    "        pickle.dump(data, f, protocol=pickle.HIGHEST_PROTOCOL)"
   ]
  },
  {
   "cell_type": "markdown",
   "metadata": {},
   "source": [
    "# Parsing the osm file using iterparse"
   ]
  },
  {
   "cell_type": "code",
   "execution_count": 3,
   "metadata": {},
   "outputs": [],
   "source": [
    "def getxy(lat,lon):\n",
    "    # gets X,Y xoordinates using latitude and longitude\n",
    "    R = 6378000             # Radius of earth\n",
    "    latr = lat*pi/180\n",
    "    lonr = lon*pi/180\n",
    "    x = R*cos(latr)*cos(lonr)\n",
    "    y = R*cos(latr)*sin(lonr)\n",
    "    return [x,y]\n",
    "\n",
    "def node_attributes(elem):\n",
    "    # Given a node element, gets its attributes like ID,latitude,longitude\n",
    "    ID = elem.get('id')\n",
    "    lat = float(elem.get('lat'))\n",
    "    lon = float(elem.get('lon'))\n",
    "    return ID,lat,lon\n",
    "\n",
    "def way_attributes(elem):\n",
    "    path = []\n",
    "    ID = elem.get('id')\n",
    "    for nd in elem:\n",
    "        if nd.tag == \"nd\":\n",
    "            path.append(nd.get('ref'))\n",
    "    return ID,path  \n",
    "\n",
    "def checkroad(way):\n",
    "    for nd in way:\n",
    "        if(nd.tag == 'tag'):\n",
    "            if(nd.attrib['k'] == \"highway\"):\n",
    "                return True\n",
    "                break\n",
    "    return False\n",
    "        \n",
    "def distance(x1,y1,x2,y2):\n",
    "    return sqrt((x2-x1)**2 + (y2-y1)**2)\n",
    "    \n",
    "    \n",
    "def parser(source):\n",
    "    \n",
    "    useful_nodes = {}\n",
    "    node = {}               # {'node_ID1' : [x1,y1], 'node_ID2' : [x2,y2],.... }\n",
    "    node_data = {}          # same as node but with lat and lon instead of x,y\n",
    "    way = {}                # {'way_ID1' : [nodes 1], 'way_ID2' : [nodes 2],.... }\n",
    "    G = []                  # a list of edges - [(node1,node2,dist12),(node3,node4,dist34), ...]\n",
    "        \n",
    "    for event, elem in ET.iterparse(source):\n",
    "        if elem.tag == \"node\":\n",
    "            ID,lat,lon = node_attributes(elem)\n",
    "            node[ID] = getxy(lat,lon)\n",
    "            node_data[ID] = [lat,lon]\n",
    "            elem.clear()\n",
    "        \n",
    "        if elem.tag == \"way\":\n",
    "            if(not checkroad(elem)):\n",
    "                continue\n",
    "            ID,path = way_attributes(elem)\n",
    "            for i in range(len(path)-1):\n",
    "                [x1,y1] = node[path[i]]\n",
    "                [x2,y2] = node[path[i+1]]\n",
    "                d = distance(x1,y1,x2,y2)\n",
    "                G.append((path[i],path[i+1],d)) # a list of tuples\n",
    "                useful_nodes[path[i]] = True\n",
    "                useful_nodes[path[i+1]] = True\n",
    "            way[ID] = path\n",
    "            elem.clear()\n",
    "        \n",
    "    return node_data,node,useful_nodes,G"
   ]
  },
  {
   "cell_type": "code",
   "execution_count": 4,
   "metadata": {},
   "outputs": [
    {
     "name": "stdout",
     "output_type": "stream",
     "text": [
      "Done\n"
     ]
    }
   ],
   "source": [
    "node_data,nodes,useful_nodes,G = parser('../0_map_data_raw/bangalore0')\n",
    "print('Done')"
   ]
  },
  {
   "cell_type": "code",
   "execution_count": 5,
   "metadata": {},
   "outputs": [
    {
     "name": "stdout",
     "output_type": "stream",
     "text": [
      "No of nodes -  3104016\n",
      "No of edges -  505146\n"
     ]
    }
   ],
   "source": [
    "print(\"No of nodes - \" , len(node_data))\n",
    "print(\"No of edges - \" , len(G))"
   ]
  },
  {
   "cell_type": "code",
   "execution_count": 6,
   "metadata": {},
   "outputs": [],
   "source": [
    "# %%time\n",
    "M = nx.Graph()\n",
    "M.add_weighted_edges_from(G)"
   ]
  },
  {
   "cell_type": "code",
   "execution_count": 7,
   "metadata": {},
   "outputs": [
    {
     "name": "stdout",
     "output_type": "stream",
     "text": [
      "445653 505083\n",
      "445653\n"
     ]
    }
   ],
   "source": [
    "print(len(M.nodes()),len(M.edges()))\n",
    "print(len(useful_nodes))"
   ]
  },
  {
   "cell_type": "markdown",
   "metadata": {},
   "source": [
    "## Extracting only Useful nodes from list of edges obtained"
   ]
  },
  {
   "cell_type": "code",
   "execution_count": 8,
   "metadata": {},
   "outputs": [],
   "source": [
    "all_nodes = list(nodes.keys())\n",
    "for ID in all_nodes:\n",
    "    if(ID not in useful_nodes):\n",
    "        del nodes[ID]\n",
    "        del node_data[ID]"
   ]
  },
  {
   "cell_type": "markdown",
   "metadata": {},
   "source": [
    "## Storing all the data for use from now on"
   ]
  },
  {
   "cell_type": "code",
   "execution_count": 9,
   "metadata": {},
   "outputs": [],
   "source": [
    "store(G, 'edges_list')\n",
    "store(nodes, 'node_xy')\n",
    "store(node_data, 'node_ll')"
   ]
  },
  {
   "cell_type": "code",
   "execution_count": 10,
   "metadata": {},
   "outputs": [
    {
     "name": "stdout",
     "output_type": "stream",
     "text": [
      "445653 445653\n"
     ]
    }
   ],
   "source": [
    "print(len(nodes), len(node_data))"
   ]
  }
 ],
 "metadata": {
  "kernelspec": {
   "display_name": "Python 3",
   "language": "python",
   "name": "python3"
  },
  "language_info": {
   "codemirror_mode": {
    "name": "ipython",
    "version": 3
   },
   "file_extension": ".py",
   "mimetype": "text/x-python",
   "name": "python",
   "nbconvert_exporter": "python",
   "pygments_lexer": "ipython3",
   "version": "3.7.3"
  }
 },
 "nbformat": 4,
 "nbformat_minor": 2
}
